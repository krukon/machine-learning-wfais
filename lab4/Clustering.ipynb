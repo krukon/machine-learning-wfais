{
 "cells": [
  {
   "cell_type": "markdown",
   "metadata": {},
   "source": [
    "# Clustering\n",
    "\n",
    "In this course we go through clustering methods. It is divided into few parts:\n",
    "1. Distributed clustering: \n",
    "    - K-means (HCM)\n",
    "    - Fuzzy clustering (FCM)\n",
    "    - Possibilistic clustering (PCM)\n",
    "2. Hierarhical clustering: \n",
    "    - agglomerative\n",
    "    - divisive\n",
    "3. Density-based clustering\n",
    "4. Quality metrics\n",
    "5. Image segmentation"
   ]
  },
  {
   "cell_type": "markdown",
   "metadata": {},
   "source": [
    "## Distributed clustering\n",
    "\n",
    "We have three types of distributed clustering. The most known method is called k-means and assign each case to one cluster strictly."
   ]
  },
  {
   "cell_type": "markdown",
   "metadata": {},
   "source": [
    "### K-means\n",
    "\n",
    "Is also known as hard c-means where k is the same as c and are the number of clusters that we are willing to divide the data set to. The steps of hcm are like following:\n",
    "1. choose the entrance cluster centroids,\n",
    "2. item calculate the assignation matrix $U$,\n",
    "3. item calculate new centroids matrix $V$,\n",
    "4. calculate the difference between previously assignation matrix $U$ and the new one calculated in current iteration.\n",
    "\n",
    "\n",
    "Let's use the data set from the lecture:"
   ]
  },
  {
   "cell_type": "markdown",
   "metadata": {},
   "source": [
    "|**Aircraft name** | **Distance range (km)** | **Seats count** | **Aircraft type** |\n",
    "|------------------|-------------------------|-----------------|-------------------|\n",
    "| Cesna 510 Mustang| 1940                    |             4   | private jet       |\n",
    "| Falcon 10/100    | 2960                    |             9   | private jet       |\n",
    "| Hawker 900/900XP | 4630                    |             9   | private jet       |\n",
    "| ATR 72-600       | 1528                    |            78   | medium size aircraft|\n",
    "| Bombardier Dash 8 Q400 | 2040              |            90   | medium size aircraft|\n",
    "| Embraer ERJ145 XR| 3700                    |            50   | medium size aircraft|\n",
    "| Boeing 747-8     | 14815                   |           467   | jet airliner      |\n",
    "| A380-800         | 15200                   |           509   | jet airliner      |\n",
    "| Boeing 787-8     | 15700                   |           290   | jet airliner      |\n",
    "| Boeing 737-900ER | 6045                    |           215   | jet airliner      | \n",
    "\n",
    "\n",
    "Let's import two libraries that are needed to plot the data."
   ]
  },
  {
   "cell_type": "code",
   "execution_count": 1,
   "metadata": {
    "collapsed": true
   },
   "outputs": [],
   "source": [
    "import matplotlib.pyplot as plt\n",
    "import numpy as np"
   ]
  },
  {
   "cell_type": "markdown",
   "metadata": {},
   "source": [
    "Now, we are ready to plot:"
   ]
  },
  {
   "cell_type": "code",
   "execution_count": 2,
   "metadata": {},
   "outputs": [
    {
     "data": {
      "image/png": "[encoded data removed]",
      "text/plain": [
       "<matplotlib.figure.Figure at 0x105ca7898>"
      ]
     },
     "metadata": {},
     "output_type": "display_data"
    }
   ],
   "source": [
    "X=np.array([(4,1940),(9,2960),(9,4630),(78,1528),(90,2040),(50,3700),(467,14815),(509,15200),(290,15700),(215,6045)])\n",
    "\n",
    "x1 = np.array(X[:,0])\n",
    "x2 = np.array(X[:,1])\n",
    "\n",
    "fig, ax = plt.subplots()\n",
    "ax.scatter(x1,x2)\n",
    "ax.set(xlabel='Seats count', ylabel='Distance range (km)',\n",
    "       title='Aircrafts')\n",
    "ax.grid()\n",
    "plt.show()"
   ]
  },
  {
   "cell_type": "markdown",
   "metadata": {},
   "source": [
    "Before we go to the next step, we need to normalize our dataset:"
   ]
  },
  {
   "cell_type": "code",
   "execution_count": 3,
   "metadata": {
    "collapsed": true
   },
   "outputs": [],
   "source": [
    "train_data = np.array(X)\n",
    "max_values = train_data.max(0)\n",
    "\n",
    "X_norm = np.divide(train_data,max_values)"
   ]
  },
  {
   "cell_type": "markdown",
   "metadata": {},
   "source": [
    "Now, the data is between 0 and 1:"
   ]
  },
  {
   "cell_type": "code",
   "execution_count": 4,
   "metadata": {},
   "outputs": [
    {
     "name": "stdout",
     "output_type": "stream",
     "text": [
      "[[0.00785855 0.12356688]\n",
      " [0.01768173 0.18853503]\n",
      " [0.01768173 0.29490446]\n",
      " [0.15324165 0.09732484]\n",
      " [0.17681729 0.12993631]\n",
      " [0.09823183 0.23566879]\n",
      " [0.91748527 0.94363057]\n",
      " [1.         0.96815287]\n",
      " [0.5697446  1.        ]\n",
      " [0.42239686 0.38503185]]\n"
     ]
    }
   ],
   "source": [
    "print(X_norm)"
   ]
  },
  {
   "cell_type": "markdown",
   "metadata": {},
   "source": [
    "Before we start, we should setup a few variables like the assignation matrix, number of clusters, the error margin and feature space:"
   ]
  },
  {
   "cell_type": "code",
   "execution_count": 59,
   "metadata": {
    "collapsed": true
   },
   "outputs": [],
   "source": [
    "data_set=X_norm\n",
    "groups = 2\n",
    "space=[[0,1],[0,1]]\n",
    "\n",
    "error_margin = 0.01\n",
    "m = 2.0\n",
    "\n",
    "assignation=np.zeros((len(X),groups))"
   ]
  },
  {
   "cell_type": "markdown",
   "metadata": {},
   "source": [
    "The assignation matrix if filled with zeros as we don't have any guess for assignation yet. We can also fill it randomly with 1 and 0 for each group. The assignation matrix looks like following:\n",
    "\n",
    "\\begin{equation*}\n",
    "U=\\begin{bmatrix}\n",
    "0 & 0 & 0 & 0 & 0 & 0 & 0 & 0 & 0 & 0\\\\\n",
    "0 & 0 & 0 & 0 & 0 & 0 & 0 & 0 & 0 & 0\\\\\n",
    "\\end{bmatrix}.\n",
    "\\end{equation*}\n",
    "\n",
    "\n",
    "It's time to generate centroid array randomly:\n",
    "\\begin{equation}\n",
    " V=[v_{1},v_{2},\\ldots,v_{c}].\n",
    "\\end{equation}\n",
    "\n",
    "We go through each group and add a random array of the feature space centroid positions:"
   ]
  },
  {
   "cell_type": "code",
   "execution_count": 39,
   "metadata": {
    "collapsed": true
   },
   "outputs": [],
   "source": [
    "import random\n",
    "\n",
    "centers = []\n",
    "\n",
    "def select_centers():\n",
    "    global centers\n",
    "    global groups\n",
    "    global space\n",
    "    iter=0\n",
    "    while iter<groups:\n",
    "        centers.append((random.uniform(space[0][0],space[0][1]), \n",
    "                        random.uniform(space[1][0],space[1][1])))\n",
    "        iter=iter+1\n",
    "        \n",
    "select_centers()"
   ]
  },
  {
   "cell_type": "markdown",
   "metadata": {},
   "source": [
    "Let's take a look what centroids do we have:"
   ]
  },
  {
   "cell_type": "code",
   "execution_count": 40,
   "metadata": {},
   "outputs": [
    {
     "name": "stdout",
     "output_type": "stream",
     "text": [
      "[(0.44738077894945405, 0.00982107378299324), (0.9483649318366374, 0.6811711399595101), (0.48928901115108536, 0.7239810240143956)]\n"
     ]
    }
   ],
   "source": [
    "print(centers)"
   ]
  },
  {
   "cell_type": "markdown",
   "metadata": {},
   "source": [
    "To check what is the distance between the centroids and the elements of data set we use the Euclidean distance:\n",
    "\n",
    "\\begin{equation}\n",
    " \\rho_{Min}(x_{i},v_{j})=\\sqrt{\\sum_{i=1}^{d}(x_{i}-v_{j})^{2}}.\n",
    "\\end{equation}"
   ]
  },
  {
   "cell_type": "code",
   "execution_count": 41,
   "metadata": {
    "collapsed": true
   },
   "outputs": [],
   "source": [
    "import math\n",
    "\n",
    "def calculate_distance(x,v):\n",
    "    return math.sqrt((x[0]-v[0])**2+(x[1]-v[1])**2)"
   ]
  },
  {
   "cell_type": "markdown",
   "metadata": {},
   "source": [
    "The next step is to calculate the new assignation matrix:\n",
    "\n",
    "\\begin{equation}\n",
    " \\mu_{ik}^{(t)}=\n",
    " \\begin{cases}\n",
    " 1 & \\text{if } d(x_{k},v_{i})<d(x_{k},v_{j}),  \\text{for each } j\\neq i\\\\\n",
    " 0 & \\text{in other case} \\\\\n",
    " \\end{cases}.\n",
    "\\end{equation}"
   ]
  },
  {
   "cell_type": "code",
   "execution_count": 42,
   "metadata": {
    "collapsed": true
   },
   "outputs": [],
   "source": [
    "def calculate_u(x, i):\n",
    "    global centers\n",
    "    distances = [calculate_distance(x, c_i) for c_i in centers]\n",
    "    result = np.zeros(len(centers))\n",
    "    result[np.argmin(distances)] = 1\n",
    "    return result\n",
    "    \n",
    "#     if calculate_distance(x, centers[0]) < calculate_distance(x, centers[1]):\n",
    "#         return [1,0]\n",
    "#     else:\n",
    "#         return [0,1]"
   ]
  },
  {
   "cell_type": "markdown",
   "metadata": {},
   "source": [
    "The third step is to calculate new centroids based on the new assignation matrix $U$:\n",
    "\n",
    "\\begin{equation}\n",
    " v_{i}=\\frac{\\sum_{k=1}^{M}\\mu_{ik}^{(t)}x_{k}}{\\sum_{k=1}^{M}\\mu_{ik}^{(t)}}.\n",
    "\\end{equation}\n",
    "\n",
    "The calculation is done in two steps: u_x_vector and u_scalar:"
   ]
  },
  {
   "cell_type": "code",
   "execution_count": 43,
   "metadata": {
    "collapsed": true
   },
   "outputs": [],
   "source": [
    "def calculate_new_centers(u):\n",
    "    global centers\n",
    "    new_centers=[]\n",
    "    for c in range(groups):\n",
    "        u_x_vector=np.zeros(2)\n",
    "        u_scalar=0.0\n",
    "        for i in range(len(data_set)):\n",
    "            u_scalar = u_scalar+(u[i][c]**m)\n",
    "            u_x_vector=np.add(u_x_vector,np.multiply(u[i][c]**m,data_set[i]))\n",
    "        new_centers.append(np.divide(u_x_vector,u_scalar))\n",
    "    centers=new_centers"
   ]
  },
  {
   "cell_type": "markdown",
   "metadata": {},
   "source": [
    "We are almost done here. The last step before we cluster is to set the rule that allow us to stop the loop."
   ]
  },
  {
   "cell_type": "code",
   "execution_count": 44,
   "metadata": {
    "collapsed": true
   },
   "outputs": [],
   "source": [
    "def calculate_differences(new_assignation):\n",
    "    global assignation    \n",
    "    return np.sum(np.abs(np.subtract(assignation,new_assignation)))"
   ]
  },
  {
   "cell_type": "markdown",
   "metadata": {},
   "source": [
    "It's time to combine all together:"
   ]
  },
  {
   "cell_type": "code",
   "execution_count": 45,
   "metadata": {
    "collapsed": true
   },
   "outputs": [],
   "source": [
    "def cluster():\n",
    "    global assignation    \n",
    "    global error_margin\n",
    "    difference_limit_not_achieved=True\n",
    "    iter=0\n",
    "    while difference_limit_not_achieved:\n",
    "        new_assignation=[]\n",
    "        for i in range(len(data_set)):\n",
    "            new_assignation.append(calculate_u(data_set[i], iter))\n",
    "        calculate_new_centers(new_assignation)\n",
    "        if iter>0:\n",
    "            error = calculate_differences(new_assignation)\n",
    "            print('error', error)\n",
    "            if error < error_margin:\n",
    "                difference_limit_not_achieved=False\n",
    "        assignation=new_assignation\n",
    "        iter=iter+1"
   ]
  },
  {
   "cell_type": "markdown",
   "metadata": {},
   "source": [
    "Ready to build some new clusters: "
   ]
  },
  {
   "cell_type": "code",
   "execution_count": 46,
   "metadata": {},
   "outputs": [
    {
     "name": "stdout",
     "output_type": "stream",
     "text": [
      "error 0.0\n"
     ]
    }
   ],
   "source": [
    "cluster()"
   ]
  },
  {
   "cell_type": "markdown",
   "metadata": {},
   "source": [
    "The centers are like following:"
   ]
  },
  {
   "cell_type": "code",
   "execution_count": 47,
   "metadata": {},
   "outputs": [
    {
     "name": "stdout",
     "output_type": "stream",
     "text": [
      "[array([0.07858546, 0.17832272]), array([0.95874263, 0.95589172]), array([0.49607073, 0.69251592])]\n"
     ]
    }
   ],
   "source": [
    "print(centers)"
   ]
  },
  {
   "cell_type": "markdown",
   "metadata": {
    "collapsed": true
   },
   "source": [
    "And the assignation matrix looks like:"
   ]
  },
  {
   "cell_type": "code",
   "execution_count": 48,
   "metadata": {},
   "outputs": [
    {
     "name": "stdout",
     "output_type": "stream",
     "text": [
      "[array([1., 0., 0.]), array([1., 0., 0.]), array([1., 0., 0.]), array([1., 0., 0.]), array([1., 0., 0.]), array([1., 0., 0.]), array([0., 1., 0.]), array([0., 1., 0.]), array([0., 0., 1.]), array([0., 0., 1.])]\n"
     ]
    }
   ],
   "source": [
    "print(assignation)"
   ]
  },
  {
   "cell_type": "markdown",
   "metadata": {},
   "source": [
    "To plot it, we need to develop a short function that adds some colors to our plot:"
   ]
  },
  {
   "cell_type": "code",
   "execution_count": 141,
   "metadata": {},
   "outputs": [
    {
     "ename": "IndexError",
     "evalue": "too many indices for array",
     "output_type": "error",
     "traceback": [
      "\u001b[0;31m---------------------------------------------------------------------------\u001b[0m",
      "\u001b[0;31mIndexError\u001b[0m                                Traceback (most recent call last)",
      "\u001b[0;32m<ipython-input-141-0e20e3935373>\u001b[0m in \u001b[0;36m<module>\u001b[0;34m()\u001b[0m\n\u001b[0;32m----> 1\u001b[0;31m \u001b[0mred\u001b[0m \u001b[0;34m=\u001b[0m \u001b[0mX_norm\u001b[0m\u001b[0;34m[\u001b[0m\u001b[0mnp\u001b[0m\u001b[0;34m.\u001b[0m\u001b[0mwhere\u001b[0m\u001b[0;34m(\u001b[0m\u001b[0mnp\u001b[0m\u001b[0;34m.\u001b[0m\u001b[0marray\u001b[0m\u001b[0;34m(\u001b[0m\u001b[0massignation\u001b[0m\u001b[0;34m)\u001b[0m\u001b[0;34m[\u001b[0m\u001b[0;34m:\u001b[0m\u001b[0;34m,\u001b[0m\u001b[0;36m0\u001b[0m\u001b[0;34m]\u001b[0m\u001b[0;34m==\u001b[0m\u001b[0;36m1\u001b[0m\u001b[0;34m)\u001b[0m\u001b[0;34m]\u001b[0m\u001b[0;34m\u001b[0m\u001b[0m\n\u001b[0m\u001b[1;32m      2\u001b[0m \u001b[0mblue\u001b[0m \u001b[0;34m=\u001b[0m \u001b[0mX_norm\u001b[0m\u001b[0;34m[\u001b[0m\u001b[0mnp\u001b[0m\u001b[0;34m.\u001b[0m\u001b[0mwhere\u001b[0m\u001b[0;34m(\u001b[0m\u001b[0mnp\u001b[0m\u001b[0;34m.\u001b[0m\u001b[0marray\u001b[0m\u001b[0;34m(\u001b[0m\u001b[0massignation\u001b[0m\u001b[0;34m)\u001b[0m\u001b[0;34m[\u001b[0m\u001b[0;34m:\u001b[0m\u001b[0;34m,\u001b[0m\u001b[0;36m1\u001b[0m\u001b[0;34m]\u001b[0m\u001b[0;34m==\u001b[0m\u001b[0;36m1\u001b[0m\u001b[0;34m)\u001b[0m\u001b[0;34m]\u001b[0m\u001b[0;34m\u001b[0m\u001b[0m\n\u001b[1;32m      3\u001b[0m \u001b[0;31m# green = X_norm[np.where(np.array(assignation)[:,2]==1)]\u001b[0m\u001b[0;34m\u001b[0m\u001b[0;34m\u001b[0m\u001b[0m\n",
      "\u001b[0;31mIndexError\u001b[0m: too many indices for array"
     ]
    }
   ],
   "source": [
    "red = X_norm[np.where(np.array(assignation)[:,0]==1)]\n",
    "blue = X_norm[np.where(np.array(assignation)[:,1]==1)]\n",
    "# green = X_norm[np.where(np.array(assignation)[:,2]==1)]"
   ]
  },
  {
   "cell_type": "markdown",
   "metadata": {},
   "source": [
    "And finally plot the results:"
   ]
  },
  {
   "cell_type": "code",
   "execution_count": 50,
   "metadata": {},
   "outputs": [
    {
     "data": {
      "image/png": "[encoded data removed]",
      "text/plain": [
       "<matplotlib.figure.Figure at 0x10604abe0>"
      ]
     },
     "metadata": {},
     "output_type": "display_data"
    }
   ],
   "source": [
    "fig, ax = plt.subplots()\n",
    "\n",
    "ax.scatter(blue[:,0],blue[:,1],c='blue')\n",
    "ax.scatter(red[:,0],red[:,1],c='red')\n",
    "ax.scatter(red[:,0],red[:,1],c='red')\n",
    "ax.scatter(np.array(centers)[:,0],np.array(centers)[:,1],c='black')\n",
    "ax.set(xlabel='Seats count', ylabel='Distance range (km)',\n",
    "       title='Aircrafts (clusters)')\n",
    "ax.grid()\n",
    "plt.show()"
   ]
  },
  {
   "cell_type": "markdown",
   "metadata": {},
   "source": [
    "### Exercise 1: Modify the code to work for three groups (max. 15min.)\n",
    "\n",
    "The obvious part is the variable groups, but the most changes needs to be done here:"
   ]
  },
  {
   "cell_type": "code",
   "execution_count": null,
   "metadata": {
    "collapsed": true
   },
   "outputs": [],
   "source": [
    "def calculate_u_three(x, i):\n",
    "    # your code goes here:\n",
    "    pass"
   ]
  },
  {
   "cell_type": "markdown",
   "metadata": {},
   "source": [
    "Goals:\n",
    "1. Modify the calculate_u code.\n",
    "2. Modify the parameters.\n",
    "3. Execute the clustering.\n",
    "4. Plot the results."
   ]
  },
  {
   "cell_type": "markdown",
   "metadata": {},
   "source": [
    "## Fuzzy k-means\n",
    "\n",
    "The fuzzy implementation of k-means is a bit more complex and we need to modify the calculate_u function to be complient with the equation:"
   ]
  },
  {
   "cell_type": "markdown",
   "metadata": {},
   "source": [
    "\\begin{equation}\n",
    " \\mu_{ik}=(\\sum_{j=1}^{c}(\\frac{d(x_{k},v_{i})}{d(_{k},v_{j})})^{\\frac{2}{m-1}})^{-1}\n",
    "\\end{equation}"
   ]
  },
  {
   "cell_type": "code",
   "execution_count": 51,
   "metadata": {
    "collapsed": true
   },
   "outputs": [],
   "source": [
    "def calculate_u(x,i):\n",
    "    global centers\n",
    "    if i == 0:\n",
    "        sum=1.0+(calculate_distance(x, centers[0])/calculate_distance(x, centers[1]))**2\n",
    "    else:\n",
    "        sum=1.0+(calculate_distance(x, centers[1])/calculate_distance(x, centers[0]))**2\n",
    "    return sum**-1"
   ]
  },
  {
   "cell_type": "code",
   "execution_count": 60,
   "metadata": {
    "collapsed": true
   },
   "outputs": [],
   "source": [
    "assignation=np.zeros((len(X),groups))\n",
    "select_centers()"
   ]
  },
  {
   "cell_type": "code",
   "execution_count": 61,
   "metadata": {
    "collapsed": true
   },
   "outputs": [],
   "source": [
    "def cluster():\n",
    "    global assignation    \n",
    "    global error_margin    \n",
    "    global groups\n",
    "    difference_limit_not_achieved=True\n",
    "    iter=0\n",
    "    while difference_limit_not_achieved:\n",
    "        new_assignation=[]\n",
    "        for i in range(len(data_set)):\n",
    "            new_assignation_vector=[]\n",
    "            for k in range(groups):\n",
    "                new_assignation_vector.append(calculate_u(data_set[i],k))\n",
    "            new_assignation.append(new_assignation_vector)\n",
    "        calculate_new_centers(new_assignation)\n",
    "\n",
    "        if iter>0:\n",
    "            if calculate_differences(new_assignation) < error_margin:\n",
    "                difference_limit_not_achieved=False\n",
    "        assignation=new_assignation\n",
    "        iter=iter+1"
   ]
  },
  {
   "cell_type": "code",
   "execution_count": 62,
   "metadata": {
    "collapsed": true
   },
   "outputs": [],
   "source": [
    "cluster()"
   ]
  },
  {
   "cell_type": "code",
   "execution_count": 63,
   "metadata": {},
   "outputs": [
    {
     "name": "stdout",
     "output_type": "stream",
     "text": [
      "[array([0.11241579, 0.19896568]), array([0.83358322, 0.96019472])]\n"
     ]
    }
   ],
   "source": [
    "print(centers)"
   ]
  },
  {
   "cell_type": "code",
   "execution_count": 64,
   "metadata": {},
   "outputs": [
    {
     "name": "stdout",
     "output_type": "stream",
     "text": [
      "[[0.9881163699691508, 0.011883630030849185], [0.9928487369257023, 0.007151263074297677], [0.9838624683551898, 0.016137531644810212], [0.9901610803781432, 0.009838919621856831], [0.9921100000332344, 0.007889999966765515], [0.9985493112093143, 0.0014506887906857234], [0.0060436911293874395, 0.9939563088706126], [0.019723698195214866, 0.9802763018047852], [0.07722271126028615, 0.9227772887397139], [0.792727553072923, 0.2072724469270771]]\n"
     ]
    }
   ],
   "source": [
    "print(assignation)"
   ]
  },
  {
   "cell_type": "code",
   "execution_count": 65,
   "metadata": {
    "collapsed": true
   },
   "outputs": [],
   "source": [
    "red = X_norm[np.where(np.array(assignation)[:,0]>0.5)]\n",
    "blue = X_norm[np.where(np.array(assignation)[:,1]>0.5)]"
   ]
  },
  {
   "cell_type": "code",
   "execution_count": 66,
   "metadata": {},
   "outputs": [
    {
     "data": {
      "image/png": "[encoded data removed]",
      "text/plain": [
       "<matplotlib.figure.Figure at 0x106132dd8>"
      ]
     },
     "metadata": {},
     "output_type": "display_data"
    }
   ],
   "source": [
    "fig, ax = plt.subplots()\n",
    "\n",
    "ax.scatter(blue[:,0],blue[:,1],c='blue')\n",
    "ax.scatter(red[:,0],red[:,1],c='red')\n",
    "ax.scatter(np.array(centers)[:,0],np.array(centers)[:,1],c='black')\n",
    "ax.set(xlabel='Seats count', ylabel='Distance range (km)',\n",
    "       title='Aircrafts (clusters)')\n",
    "ax.grid()\n",
    "plt.show()"
   ]
  },
  {
   "cell_type": "markdown",
   "metadata": {},
   "source": [
    "### Homework: Implement possibilistic k-means\n",
    "\n",
    "Goal:\n",
    "1. Implement the mahalanobis_distance function.\n",
    "2. Implement the calculate_eta function.\n",
    "3. Implement the calculate_u.\n",
    "\n",
    "Hint: the assignation matrix should not be set to zeros at the beginning.\n",
    "\n",
    "**Deadline:** 4.04.2018\n"
   ]
  },
  {
   "cell_type": "code",
   "execution_count": 195,
   "metadata": {
    "collapsed": true
   },
   "outputs": [],
   "source": [
    "import numpy as np\n",
    "import matplotlib.pyplot as plt\n",
    "from scipy.spatial.distance import mahalanobis"
   ]
  },
  {
   "cell_type": "code",
   "execution_count": 158,
   "metadata": {
    "collapsed": true
   },
   "outputs": [],
   "source": [
    "error_margin = 1e-3"
   ]
  },
  {
   "cell_type": "code",
   "execution_count": 227,
   "metadata": {},
   "outputs": [
    {
     "name": "stdout",
     "output_type": "stream",
     "text": [
      "[[1 0]\n",
      " [1 1]\n",
      " [2 0]\n",
      " [1 2]] (4, 2)\n",
      "[[0.1 0.2 0.3]\n",
      " [0.4 0.5 0.6]\n",
      " [0.7 0.8 0.9]\n",
      " [0.1 0.2 0.3]] (4, 3)\n"
     ]
    }
   ],
   "source": [
    "x = np.array([\n",
    "    [1,0],\n",
    "    [1,1],\n",
    "    [2,0],\n",
    "    [1,2]])\n",
    "u = np.array([[0.1,0.2,0.3],[0.4,0.5,0.6],[0.7,0.8,0.9],[0.1,0.2,0.3]])\n",
    "print(x, x.shape)\n",
    "print(u, u.shape)"
   ]
  },
  {
   "cell_type": "code",
   "execution_count": 3,
   "metadata": {},
   "outputs": [
    {
     "data": {
      "text/plain": [
       "array([[1.5, 0. ],\n",
       "       [1. , 1. ],\n",
       "       [1. , 2. ]])"
      ]
     },
     "execution_count": 3,
     "metadata": {},
     "output_type": "execute_result"
    }
   ],
   "source": [
    "c = (np.matmul(u.T, x).T / np.sum(u, 0)).T\n",
    "v = c\n",
    "v"
   ]
  },
  {
   "cell_type": "code",
   "execution_count": 197,
   "metadata": {},
   "outputs": [
    {
     "data": {
      "text/plain": [
       "array([[0.21929238, 0.11757368, 0.79299469],\n",
       "       [0.46529193, 0.13903884, 0.56845059],\n",
       "       [0.3690555 , 0.52509906, 0.69518067],\n",
       "       [0.26276141, 0.54492933, 0.8808907 ]])"
      ]
     },
     "execution_count": 197,
     "metadata": {},
     "output_type": "execute_result"
    }
   ],
   "source": [
    "u = np.random.uniform(size=[4, 3])\n",
    "u"
   ]
  },
  {
   "cell_type": "code",
   "execution_count": null,
   "metadata": {
    "collapsed": true
   },
   "outputs": [],
   "source": []
  },
  {
   "cell_type": "code",
   "execution_count": null,
   "metadata": {
    "collapsed": true
   },
   "outputs": [],
   "source": []
  },
  {
   "cell_type": "code",
   "execution_count": null,
   "metadata": {
    "collapsed": true
   },
   "outputs": [],
   "source": []
  },
  {
   "cell_type": "markdown",
   "metadata": {},
   "source": [
    "\n",
    "The third step is to calculate new centroids based on the new assignation matrix $U$:\n",
    "\n",
    "\\begin{equation}\n",
    " v_{i}=\\frac{\\sum_{k=1}^{M}\\mu_{ik}^{(t)}x_{k}}{\\sum_{k=1}^{M}\\mu_{ik}^{(t)}}.\n",
    "\\end{equation}\n",
    "\n",
    "The calculation is done in two steps: u_x_vector and u_scalar:\n",
    "\n",
    "\\begin{equation}\n",
    "    u_ik = (1 + (frac{D_{ikA}, n_i})^{frac{2,m-1})^{-1}}\n",
    "\\end{equation}"
   ]
  },
  {
   "cell_type": "code",
   "execution_count": 99,
   "metadata": {
    "collapsed": true
   },
   "outputs": [],
   "source": [
    "def mahalanobis_distance_2(u, v, VI):\n",
    "    return np.matmul(np.matmul((u - v).T, VI), u - v)\n",
    "\n",
    "def mahalanobis_distance(u, v, VI):\n",
    "    return np.sqrt(mahalanobis_distance_2(u, v, VI))"
   ]
  },
  {
   "cell_type": "code",
   "execution_count": 149,
   "metadata": {
    "collapsed": true
   },
   "outputs": [],
   "source": [
    "def calculate_eta(u, D2, m):\n",
    "    u_m = np.power(u, m)\n",
    "    return np.sum(u_m * D2, axis=0) / np.sum(u_m, axis=0)"
   ]
  },
  {
   "cell_type": "code",
   "execution_count": 112,
   "metadata": {
    "collapsed": true
   },
   "outputs": [],
   "source": [
    "def calculate_D2(x, v, A):\n",
    "    D2 = np.zeros([v.shape[0], x.shape[0]])\n",
    "    for k, x_k in enumerate(x):\n",
    "        for i, v_i in enumerate(v):\n",
    "            D2[i,k] = mahalanobis_distance_2(x_k, v_i, A)\n",
    "    return D2.T"
   ]
  },
  {
   "cell_type": "code",
   "execution_count": 214,
   "metadata": {
    "collapsed": true
   },
   "outputs": [],
   "source": [
    "def calculate_u(u, x, v, m):\n",
    "    m = v.shape[0]\n",
    "    A = np.linalg.inv(np.cov(x.T))\n",
    "#     A = np.eye(x.shape[1])\n",
    "    D2 = calculate_D2(x, v, A)\n",
    "    eta = calculate_eta(u, D2, m)\n",
    "    eta2 = np.power(eta, 2)\n",
    "    return np.power(1 + np.power(D2 / eta2, 1 / (m - 1)), -1)"
   ]
  },
  {
   "cell_type": "code",
   "execution_count": 215,
   "metadata": {},
   "outputs": [
    {
     "data": {
      "text/plain": [
       "array([[0.58863158, 0.68401563, 0.5509824 ],\n",
       "       [0.58863158, 1.        , 0.71049472],\n",
       "       [0.58863158, 0.57000545, 0.56172023],\n",
       "       [0.44511823, 0.68401563, 1.        ]])"
      ]
     },
     "execution_count": 215,
     "metadata": {},
     "output_type": "execute_result"
    }
   ],
   "source": [
    "u1 = calculate_u(u, x, v, 2)\n",
    "u1"
   ]
  },
  {
   "cell_type": "code",
   "execution_count": 216,
   "metadata": {},
   "outputs": [
    {
     "data": {
      "text/plain": [
       "array([[1.27996887, 0.60015565],\n",
       "       [1.14372178, 0.85627822],\n",
       "       [1.14856045, 1.17933343]])"
      ]
     },
     "execution_count": 216,
     "metadata": {},
     "output_type": "execute_result"
    }
   ],
   "source": [
    "calculate_new_centers(u1, x, 2)"
   ]
  },
  {
   "cell_type": "code",
   "execution_count": 217,
   "metadata": {},
   "outputs": [
    {
     "data": {
      "text/plain": [
       "array([[0.34648713, 0.46787739, 0.3035816 ],\n",
       "       [0.34648713, 1.        , 0.50480274],\n",
       "       [0.34648713, 0.32490622, 0.31552962],\n",
       "       [0.19813024, 0.46787739, 1.        ]])"
      ]
     },
     "execution_count": 217,
     "metadata": {},
     "output_type": "execute_result"
    }
   ],
   "source": [
    "u1m = np.power(u1, 2)\n",
    "u1m"
   ]
  },
  {
   "cell_type": "code",
   "execution_count": 218,
   "metadata": {},
   "outputs": [
    {
     "data": {
      "text/plain": [
       "1.1793334314680228"
      ]
     },
     "execution_count": 218,
     "metadata": {},
     "output_type": "execute_result"
    }
   ],
   "source": [
    "np.sum(u1m[:,2] * x[:,1]) / np.sum(u1m[:,2])"
   ]
  },
  {
   "cell_type": "code",
   "execution_count": null,
   "metadata": {
    "collapsed": true
   },
   "outputs": [],
   "source": []
  },
  {
   "cell_type": "code",
   "execution_count": 229,
   "metadata": {
    "collapsed": true
   },
   "outputs": [],
   "source": [
    "def calculate_new_centers(u, x, m):\n",
    "    um = np.power(u, m)\n",
    "    return (np.matmul(um.T, x).T / np.sum(um, axis=0)).T\n",
    "\n",
    "def calculate_differences(assignation, new_assignation):\n",
    "    return np.sum(np.abs(np.subtract(assignation, new_assignation)))\n",
    "\n",
    "def probabilistic_k_means(x, clusters=3, m=2):\n",
    "#     centers = np.random.uniform(size=[clusters, x.shape[1]])\n",
    "    assignation = np.random.uniform(size=[x.shape[0], clusters])\n",
    "    centers = calculate_new_centers(assignation, x, m)\n",
    "    \n",
    "    print('u', assignation.shape)\n",
    "    print('v', centers.shape)\n",
    "    \n",
    "    error = error_margin + 1.0\n",
    "    loops = 0\n",
    "    while error >= error_margin and loops == 0:\n",
    "        new_assignation = calculate_u(assignation, x, centers, m)\n",
    "        error = calculate_differences(assignation, new_assignation)\n",
    "        centers = calculate_new_centers(new_assignation, x, m)\n",
    "        assignation=new_assignation\n",
    "        loops += 1\n",
    "    print(loops)\n",
    "    return centers, assignation"
   ]
  },
  {
   "cell_type": "code",
   "execution_count": 225,
   "metadata": {},
   "outputs": [
    {
     "data": {
      "text/plain": [
       "array([[1, 0],\n",
       "       [1, 1],\n",
       "       [2, 0],\n",
       "       [1, 2]])"
      ]
     },
     "execution_count": 225,
     "metadata": {},
     "output_type": "execute_result"
    }
   ],
   "source": [
    "x"
   ]
  },
  {
   "cell_type": "code",
   "execution_count": 228,
   "metadata": {},
   "outputs": [
    {
     "data": {
      "text/plain": [
       "array([[0.1, 0.2, 0.3],\n",
       "       [0.4, 0.5, 0.6],\n",
       "       [0.7, 0.8, 0.9],\n",
       "       [0.1, 0.2, 0.3]])"
      ]
     },
     "execution_count": 228,
     "metadata": {},
     "output_type": "execute_result"
    }
   ],
   "source": [
    "u"
   ]
  },
  {
   "cell_type": "code",
   "execution_count": 236,
   "metadata": {},
   "outputs": [
    {
     "data": {
      "text/plain": [
       "array([[0.23764676, 0.30113025, 0.35343833],\n",
       "       [0.289054  , 0.37022498, 0.43854325],\n",
       "       [0.52534466, 0.53273405, 0.53951462],\n",
       "       [0.23764676, 0.30113025, 0.35343833]])"
      ]
     },
     "execution_count": 236,
     "metadata": {},
     "output_type": "execute_result"
    }
   ],
   "source": [
    "v1 = calculate_new_centers(u, x, 2)\n",
    "u2 = calculate_u(u, x, v1, 2)\n",
    "u2"
   ]
  },
  {
   "cell_type": "code",
   "execution_count": 237,
   "metadata": {},
   "outputs": [
    {
     "data": {
      "text/plain": [
       "array([[1.73134328, 0.26865672],\n",
       "       [1.65979381, 0.34020619],\n",
       "       [1.6       , 0.4       ]])"
      ]
     },
     "execution_count": 237,
     "metadata": {},
     "output_type": "execute_result"
    }
   ],
   "source": [
    "v1"
   ]
  },
  {
   "cell_type": "code",
   "execution_count": null,
   "metadata": {
    "collapsed": true
   },
   "outputs": [],
   "source": []
  },
  {
   "cell_type": "code",
   "execution_count": null,
   "metadata": {
    "collapsed": true
   },
   "outputs": [],
   "source": []
  },
  {
   "cell_type": "code",
   "execution_count": 230,
   "metadata": {},
   "outputs": [
    {
     "name": "stdout",
     "output_type": "stream",
     "text": [
      "u (4, 3)\n",
      "v (3, 2)\n",
      "1\n",
      "[[1.0298302  0.92234353]\n",
      " [1.10019388 0.8304838 ]\n",
      " [1.05595382 1.02155989]]\n",
      "[[0.1482111  0.50520894 0.20182193]\n",
      " [0.42599054 0.81092664 0.57698974]\n",
      " [0.08127051 0.34750827 0.16357712]\n",
      " [0.10666307 0.41434654 0.27892588]]\n"
     ]
    }
   ],
   "source": [
    "x_norm = x / np.max(x, axis=0)\n",
    "centers, assignation = probabilistic_k_means(x, 3)\n",
    "\n",
    "print(centers)\n",
    "print(assignation)"
   ]
  },
  {
   "cell_type": "code",
   "execution_count": 231,
   "metadata": {},
   "outputs": [
    {
     "data": {
      "text/plain": [
       "array([1, 1, 1, 1])"
      ]
     },
     "execution_count": 231,
     "metadata": {},
     "output_type": "execute_result"
    }
   ],
   "source": [
    "a = np.argmax(assignation, axis=1)\n",
    "a"
   ]
  },
  {
   "cell_type": "code",
   "execution_count": 232,
   "metadata": {},
   "outputs": [
    {
     "data": {
      "text/plain": [
       "array([[1, 0],\n",
       "       [1, 1],\n",
       "       [2, 0],\n",
       "       [1, 2]])"
      ]
     },
     "execution_count": 232,
     "metadata": {},
     "output_type": "execute_result"
    }
   ],
   "source": [
    "x"
   ]
  },
  {
   "cell_type": "code",
   "execution_count": 233,
   "metadata": {},
   "outputs": [],
   "source": [
    "sets = [x[np.where(a == i)] for i in range(len(centers))]"
   ]
  },
  {
   "cell_type": "code",
   "execution_count": 234,
   "metadata": {},
   "outputs": [
    {
     "data": {
      "image/png": "[encoded data removed]",
      "text/plain": [
       "<matplotlib.figure.Figure at 0x106e4d898>"
      ]
     },
     "metadata": {},
     "output_type": "display_data"
    }
   ],
   "source": [
    "a = np.argmax(assignation, axis=1)\n",
    "\n",
    "sets = [x[np.where(a == i)] for i in range(len(centers))]\n",
    "colors = ['red', 'blue', 'green', 'yellow']\n",
    "\n",
    "# red = X_norm[np.where(np.array(assignation)[:,0]>0.5)]\n",
    "# blue = X_norm[np.where(np.array(assignation)[:,1]>0.5)]\n",
    "\n",
    "fig, ax = plt.subplots()\n",
    "\n",
    "for points, color in zip(sets, colors):\n",
    "    ax.scatter(points[:,0],points[:,1],c=color)\n",
    "\n",
    "# ax.scatter(blue[:,0],blue[:,1],c='blue')\n",
    "# ax.scatter(red[:,0],red[:,1],c='red')\n",
    "ax.scatter(np.array(centers)[:,0],np.array(centers)[:,1],c='black')\n",
    "ax.set(xlabel='Seats count', ylabel='Distance range (km)',\n",
    "       title='Aircrafts (clusters)')\n",
    "ax.grid()\n",
    "plt.show()"
   ]
  },
  {
   "cell_type": "code",
   "execution_count": null,
   "metadata": {
    "collapsed": true
   },
   "outputs": [],
   "source": []
  },
  {
   "cell_type": "code",
   "execution_count": null,
   "metadata": {
    "collapsed": true
   },
   "outputs": [],
   "source": []
  },
  {
   "cell_type": "code",
   "execution_count": null,
   "metadata": {
    "collapsed": true
   },
   "outputs": [],
   "source": []
  },
  {
   "cell_type": "code",
   "execution_count": 150,
   "metadata": {},
   "outputs": [
    {
     "data": {
      "text/plain": [
       "array([2.62653326, 0.76260526, 1.16920908])"
      ]
     },
     "execution_count": 150,
     "metadata": {},
     "output_type": "execute_result"
    }
   ],
   "source": [
    "calculate_eta(u, D2, 1)"
   ]
  },
  {
   "cell_type": "code",
   "execution_count": 151,
   "metadata": {},
   "outputs": [
    {
     "data": {
      "text/plain": [
       "array([[0.88399142, 0.2110944 , 0.15308433],\n",
       "       [0.77312898, 1.        , 0.26552148],\n",
       "       [0.88399142, 0.15910334, 0.13917202],\n",
       "       [0.64889293, 0.2110944 , 1.        ]])"
      ]
     },
     "execution_count": 151,
     "metadata": {},
     "output_type": "execute_result"
    }
   ],
   "source": [
    "calculate_u(u, x, v)"
   ]
  },
  {
   "cell_type": "code",
   "execution_count": 152,
   "metadata": {},
   "outputs": [
    {
     "data": {
      "text/plain": [
       "array([[1, 0],\n",
       "       [1, 1],\n",
       "       [2, 0],\n",
       "       [1, 2]])"
      ]
     },
     "execution_count": 152,
     "metadata": {},
     "output_type": "execute_result"
    }
   ],
   "source": [
    "x"
   ]
  },
  {
   "cell_type": "code",
   "execution_count": 153,
   "metadata": {},
   "outputs": [
    {
     "data": {
      "text/plain": [
       "array([[1.5, 0. ],\n",
       "       [1. , 1. ],\n",
       "       [1. , 2. ]])"
      ]
     },
     "execution_count": 153,
     "metadata": {},
     "output_type": "execute_result"
    }
   ],
   "source": [
    "v"
   ]
  },
  {
   "cell_type": "code",
   "execution_count": null,
   "metadata": {
    "collapsed": true
   },
   "outputs": [],
   "source": []
  },
  {
   "cell_type": "code",
   "execution_count": 113,
   "metadata": {},
   "outputs": [
    {
     "data": {
      "text/plain": [
       "array([[0.25, 1.  , 4.  ],\n",
       "       [1.25, 0.  , 1.  ],\n",
       "       [0.25, 2.  , 5.  ],\n",
       "       [4.25, 1.  , 0.  ]])"
      ]
     },
     "execution_count": 113,
     "metadata": {},
     "output_type": "execute_result"
    }
   ],
   "source": [
    "D2 = calculate_D2(x, v, np.eye(2))\n",
    "D2"
   ]
  },
  {
   "cell_type": "code",
   "execution_count": 145,
   "metadata": {},
   "outputs": [
    {
     "data": {
      "text/plain": [
       "array([[0.41404769, 0.20369902, 0.0726578 ],\n",
       "       [0.14834155, 0.90115109, 0.62986816],\n",
       "       [0.07516675, 0.46883972, 0.23247114],\n",
       "       [0.84192144, 0.24737563, 0.84642515]])"
      ]
     },
     "execution_count": 145,
     "metadata": {},
     "output_type": "execute_result"
    }
   ],
   "source": [
    "q = np.random.uniform(size=[4, 3])\n",
    "q"
   ]
  },
  {
   "cell_type": "code",
   "execution_count": 147,
   "metadata": {
    "collapsed": true
   },
   "outputs": [],
   "source": [
    "def calculate_distance(x, c_i):\n",
    "    return np.sqrt(np.sum(np.power(x - v, 2), axis=0))\n",
    "\n",
    "def calculate_u(centers, x):\n",
    "    distances = [calculate_distance(x, c_i) for c_i in centers]\n",
    "    result = np.zeros(len(centers))\n",
    "    result[np.argmin(distances)] = 1\n",
    "    return result\n",
    "\n",
    "def calculate_new_centers(u, x):\n",
    "    return (np.matmul(u.T, x).T / np.sum(u, axis=0)).T\n",
    "\n",
    "def calculate_differences(assignation, new_assignation):\n",
    "    return np.sum(np.abs(np.subtract(assignation, new_assignation)))\n",
    "\n",
    "def probabilistic_k_means(x, clusters=2):\n",
    "    centers = np.random.uniform([clusters, x.shape[1]])\n",
    "    assignation = np.random.uniform([x.shape[0], clusters])\n",
    "    \n",
    "    error = error_margin + 1.0\n",
    "    while error >= error_margin:\n",
    "        new_assignation = calculate_u(centers, x)\n",
    "        error = calculate_differences(assignation, new_assignation)\n",
    "        centers = calculate_new_centers(new_assignation, x)\n",
    "        assignation=new_assignation\n",
    "    \n",
    "    return assignation"
   ]
  },
  {
   "cell_type": "code",
   "execution_count": null,
   "metadata": {
    "collapsed": true
   },
   "outputs": [],
   "source": []
  },
  {
   "cell_type": "code",
   "execution_count": null,
   "metadata": {
    "collapsed": true
   },
   "outputs": [],
   "source": []
  },
  {
   "cell_type": "code",
   "execution_count": null,
   "metadata": {
    "collapsed": true
   },
   "outputs": [],
   "source": []
  },
  {
   "cell_type": "code",
   "execution_count": null,
   "metadata": {
    "collapsed": true
   },
   "outputs": [],
   "source": []
  },
  {
   "cell_type": "code",
   "execution_count": null,
   "metadata": {
    "collapsed": true
   },
   "outputs": [],
   "source": []
  },
  {
   "cell_type": "code",
   "execution_count": null,
   "metadata": {
    "collapsed": true
   },
   "outputs": [],
   "source": []
  },
  {
   "cell_type": "markdown",
   "metadata": {},
   "source": [
    "## Density-based clustering\n",
    "\n",
    "In density-based clustering the approach is different compared to distributed clustering. We need to implement all functions from scratch. DBScan is an example of a density-based clustering method. The goal is to find all element where the neighborhood is defined as:\n",
    "\\begin{equation}\n",
    "    N_{\\epsilon}:{q|d(p,q)\\leq\\epsilon},\n",
    "\\end{equation}\n",
    "where $p$ and $q$ are two elements of the training data set and $\\epsilon$ is the neighborhood distance."
   ]
  },
  {
   "cell_type": "markdown",
   "metadata": {},
   "source": [
    "Let's setup the variables as in previous examples. The are three new ones like distance_matrix, max_distance and number_of_cluster. The first one is clear, the second is a parameter that can be changed, depending on that how many neighborhood elements we would like to concider. The last variable is about the number of clusters that are calculated during clustering. It's not the exact number of clusters, but allow us count the clusters during clustering."
   ]
  },
  {
   "cell_type": "code",
   "execution_count": 99,
   "metadata": {
    "collapsed": true
   },
   "outputs": [],
   "source": [
    "data_set = X_norm\n",
    "assignation = np.zeros(len(data_set))\n",
    "distance_matrix = np.zeros((len(data_set), len(data_set)))\n",
    "max_distance = 0.2\n",
    "number_of_cluster = 0"
   ]
  },
  {
   "cell_type": "markdown",
   "metadata": {},
   "source": [
    "To calculate the distance matrix we use the calculate_distance that we used previously:"
   ]
  },
  {
   "cell_type": "code",
   "execution_count": 113,
   "metadata": {
    "collapsed": true
   },
   "outputs": [],
   "source": [
    "def calculate_distance_matrix():\n",
    "    global distance_matrix\n",
    "    for i in range(len(data_set)):\n",
    "        for j in range(len(data_set)):\n",
    "            distance_matrix[i, j] = calculate_distance(data_set[i], data_set[j])\n",
    "\n",
    "calculate_distance_matrix()"
   ]
  },
  {
   "cell_type": "code",
   "execution_count": 123,
   "metadata": {},
   "outputs": [
    {
     "data": {
      "text/plain": [
       "array([[0.        , 0.06570659, 0.17161894, 0.1477325 , 0.16907876,\n",
       "        0.14399364, 1.22471435, 1.30294672, 1.04108163, 0.49010809],\n",
       "       [0.06570659, 0.        , 0.10636943, 0.16338847, 0.16958165,\n",
       "        0.0933269 , 1.17465556, 1.25409456, 0.9814524 , 0.4498948 ],\n",
       "       [0.17161894, 0.10636943, 0.        , 0.2396126 , 0.22921304,\n",
       "        0.09998591, 1.10927543, 1.19088732, 0.89550719, 0.41462909],\n",
       "       [0.1477325 , 0.16338847, 0.2396126 , 0.        , 0.04024076,\n",
       "        0.14887958, 1.14030772, 1.21463622, 0.99413135, 0.3939795 ],\n",
       "       [0.16907876, 0.16958165, 0.22921304, 0.04024076, 0.        ,\n",
       "        0.1317385 , 1.10031242, 1.17483479, 0.95467413, 0.3540947 ],\n",
       "       [0.14399364, 0.0933269 , 0.09998591, 0.14887958, 0.1317385 ,\n",
       "        0.        , 1.08276779, 1.16177397, 0.8980682 , 0.35692056],\n",
       "       [1.22471435, 1.17465556, 1.10927543, 1.14030772, 1.10031242,\n",
       "        1.08276779, 0.        , 0.0860815 , 0.35227984, 0.74642151],\n",
       "       [1.30294672, 1.25409456, 1.19088732, 1.21463622, 1.17483479,\n",
       "        1.16177397, 0.0860815 , 0.        , 0.43143244, 0.8207652 ],\n",
       "       [1.04108163, 0.9814524 , 0.89550719, 0.99413135, 0.95467413,\n",
       "        0.8980682 , 0.35227984, 0.43143244, 0.        , 0.63237424],\n",
       "       [0.49010809, 0.4498948 , 0.41462909, 0.3939795 , 0.3540947 ,\n",
       "        0.35692056, 0.74642151, 0.8207652 , 0.63237424, 0.        ]])"
      ]
     },
     "execution_count": 123,
     "metadata": {},
     "output_type": "execute_result"
    }
   ],
   "source": [
    "distance_matrix"
   ]
  },
  {
   "cell_type": "markdown",
   "metadata": {},
   "source": [
    "The next step is to get closest elements in the feature space:"
   ]
  },
  {
   "cell_type": "code",
   "execution_count": 124,
   "metadata": {
    "collapsed": true
   },
   "outputs": [],
   "source": [
    "import operator\n",
    "\n",
    "def get_closest_elements(element_id):\n",
    "    global distance_matrix\n",
    "    element_distances = distance_matrix[element_id]\n",
    "    element_keys = range(len(element_distances))\n",
    "    element_dict = {element_keys[i]: element_distances[i] for i in range(len(element_distances))}\n",
    "    return sorted(element_dict.items(), key=operator.itemgetter(1))"
   ]
  },
  {
   "cell_type": "markdown",
   "metadata": {},
   "source": [
    "Extract only elements within the distance area."
   ]
  },
  {
   "cell_type": "code",
   "execution_count": 125,
   "metadata": {
    "collapsed": true
   },
   "outputs": [],
   "source": [
    "def elements_in_area(distance_vector):\n",
    "    global max_distance\n",
    "    for dist_id, distance in distance_vector:\n",
    "        if distance < max_distance:\n",
    "            distance_vector.pop(dist_id)\n",
    "    return distance_vector"
   ]
  },
  {
   "cell_type": "markdown",
   "metadata": {},
   "source": [
    "And filter the points that we have already visited."
   ]
  },
  {
   "cell_type": "code",
   "execution_count": 126,
   "metadata": {
    "collapsed": true
   },
   "outputs": [],
   "source": [
    "def filter_visited(distances_vector):\n",
    "    iter=0\n",
    "    for dist_id, distance in distances_vector:\n",
    "        if assignation[dist_id] > 0:\n",
    "            distances_vector.pop(iter)\n",
    "        iter=iter+1\n",
    "    return distances_vector"
   ]
  },
  {
   "cell_type": "markdown",
   "metadata": {},
   "source": [
    "The last step before cluster function is to define funtions that mark the elements in our data set that are known to be a noise or were already visited by our method."
   ]
  },
  {
   "cell_type": "code",
   "execution_count": 127,
   "metadata": {
    "collapsed": true
   },
   "outputs": [],
   "source": [
    "def is_not_visited(element_id):\n",
    "    global assignation\n",
    "    if assignation[element_id] > 0:\n",
    "        return False\n",
    "    return True\n",
    "\n",
    "def set_visited(element_id):\n",
    "    global assignation\n",
    "    assignation[element_id] = number_of_cluster\n",
    "\n",
    "def set_as_noise(element_id):\n",
    "    global assignation\n",
    "    assignation[element_id] = -1"
   ]
  },
  {
   "cell_type": "markdown",
   "metadata": {},
   "source": [
    "Combine it all together:"
   ]
  },
  {
   "cell_type": "code",
   "execution_count": 128,
   "metadata": {
    "collapsed": true
   },
   "outputs": [],
   "source": [
    "def cluster():\n",
    "    global number_of_cluster\n",
    "    calculate_distance_matrix()\n",
    "    for i in range(len(data_set)):\n",
    "        if is_not_visited(i):\n",
    "            number_of_cluster = number_of_cluster + 1\n",
    "            close_elements = filter_visited(get_closest_elements(i))\n",
    "            distance_iter = 0\n",
    "            for dist_id, distance in close_elements:\n",
    "                if distance < max_distance:\n",
    "                    distance_iter = distance_iter + 1\n",
    "                    set_visited(dist_id)\n",
    "            if distance_iter == 1 :\n",
    "                set_as_noise(i)"
   ]
  },
  {
   "cell_type": "markdown",
   "metadata": {},
   "source": [
    "Ready to cluster:"
   ]
  },
  {
   "cell_type": "code",
   "execution_count": 129,
   "metadata": {
    "collapsed": true
   },
   "outputs": [],
   "source": [
    "cluster()"
   ]
  },
  {
   "cell_type": "markdown",
   "metadata": {},
   "source": [
    "The number of cluster is:"
   ]
  },
  {
   "cell_type": "code",
   "execution_count": 130,
   "metadata": {},
   "outputs": [
    {
     "name": "stdout",
     "output_type": "stream",
     "text": [
      "Number of clusters: 3\n"
     ]
    }
   ],
   "source": [
    "print(\"Number of clusters: \"+ str(len(np.unique(assignation))))"
   ]
  },
  {
   "cell_type": "markdown",
   "metadata": {},
   "source": [
    "We can see it here as well:"
   ]
  },
  {
   "cell_type": "code",
   "execution_count": 131,
   "metadata": {},
   "outputs": [
    {
     "name": "stdout",
     "output_type": "stream",
     "text": [
      "[ 1.  1.  1.  1.  1.  1.  2.  2. -1. -1.]\n"
     ]
    }
   ],
   "source": [
    "print(assignation)"
   ]
  },
  {
   "cell_type": "markdown",
   "metadata": {},
   "source": [
    "### Exercise: Plot the feature space with all element marked with differnet color, depending on the cluster that it's assigned\n",
    "\n",
    "Use the code below to plot the results. You can play with the max_distance variable to get more or less groups."
   ]
  },
  {
   "cell_type": "code",
   "execution_count": 137,
   "metadata": {
    "collapsed": true
   },
   "outputs": [],
   "source": [
    "# change the bel\n",
    "def get_colours(color_id):\n",
    "    global assignation\n",
    "    global blue\n",
    "    global red\n",
    "    colors = ['red','blue','green','orange','black','yellow']\n",
    "    red = X_norm[np.where(np.array(assignation)[:,0]>0.5)]\n",
    "    blue = X_norm[np.where(np.array(assignation)[:,1]>0.5)]\n",
    "    return []\n",
    "#     pass"
   ]
  },
  {
   "cell_type": "code",
   "execution_count": 138,
   "metadata": {},
   "outputs": [
    {
     "data": {
      "image/png": "[encoded data removed]",
      "text/plain": [
       "<matplotlib.figure.Figure at 0x106160198>"
      ]
     },
     "metadata": {},
     "output_type": "display_data"
    }
   ],
   "source": [
    "fig, ax = plt.subplots()\n",
    "\n",
    "# your code or modifications comes here:\n",
    "ax.scatter(blue[:,0],blue[:,1],c='blue')\n",
    "ax.scatter(red[:,0],red[:,1],c='red')\n",
    "ax.scatter(np.array(centers)[:,0],np.array(centers)[:,1],c='black')\n",
    "# ends here\n",
    "ax.set(xlabel='Seats count', ylabel='Distance range (km)',\n",
    "       title='Aircrafts (clusters)')\n",
    "ax.grid()\n",
    "plt.show()"
   ]
  },
  {
   "cell_type": "code",
   "execution_count": null,
   "metadata": {
    "collapsed": true
   },
   "outputs": [],
   "source": []
  }
 ],
 "metadata": {
  "kernelspec": {
   "display_name": "Python 3",
   "language": "python",
   "name": "python3"
  },
  "language_info": {
   "codemirror_mode": {
    "name": "ipython",
    "version": 3
   },
   "file_extension": ".py",
   "mimetype": "text/x-python",
   "name": "python",
   "nbconvert_exporter": "python",
   "pygments_lexer": "ipython3",
   "version": "3.4.3"
  }
 },
 "nbformat": 4,
 "nbformat_minor": 2
}
