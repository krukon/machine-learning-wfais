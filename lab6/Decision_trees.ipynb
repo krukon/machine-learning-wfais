{
 "cells": [
  {
   "cell_type": "markdown",
   "metadata": {
    "collapsed": true
   },
   "source": [
    "# Decision trees\n",
    "\n",
    "\n"
   ]
  },
  {
   "cell_type": "markdown",
   "metadata": {
    "collapsed": true
   },
   "source": [
    "In this section we cover the decision tree methods. We divided it into three parts:\n",
    "- univariate methods,\n",
    "- multivariate methods,\n",
    "- quality metrics."
   ]
  },
  {
   "cell_type": "markdown",
   "metadata": {},
   "source": [
    "The customer segmentation shown in the lectures looks as following:\n",
    "\n",
    "\n",
    "| Location|Category   | Gender | Product review  | Decision |\n",
    "|---------|-----------|--------|-----------------|--------|\n",
    "| Berlin | Furniture  | Male   | Checked Reviews | Bought |\n",
    "| London | Furniture  | Male   | Checked Reviews | Bought |\n",
    "| Berlin | Furniture  | Female | Checked Reviews | Did not bought |\n",
    "| Berlin | Textile    | Female | Checked Reviews | Bought |\n",
    "| London | Electronics| Male   | Checked Reviews | Did not bough |\n",
    "| London | Textile    | Female | Checked Reviews | Did not bough |\n",
    "| Paris  | Textile    | Male   | Did not checked | Bought |\n",
    "| Berlin | Electronics| Male   | Checked Reviews | Bought |\n",
    "| Paris  | Electronics| Male   | Did not checked | Bought |\n",
    "| London | Electronics| Female | Checked Reviews | Bought |\n",
    "| Paris  | Furniture  | Female | Did not checked | Bought |\n",
    "| Berlin | Textile    | Female | Did not checked | Bought |\n",
    "| London | Electronics| Female | Did not checked | Did not bough |\n",
    "| London | Furniture  | Female | Checked Reviews | Did not bough |\n",
    "| London | Textile    | Female | Did not checked | Did not bough |"
   ]
  },
  {
   "cell_type": "code",
   "execution_count": 1,
   "metadata": {},
   "outputs": [],
   "source": [
    "import numpy\n",
    "\n",
    "labels = [1,1,-1,1,-1,-1,1,1,1,1,1,1,-1,-1,-1]\n",
    "X = [[1,1,2,2],[2,1,2,2],[1,1,1,2],[1,2,1,2],[2,3,2,2],\n",
    "                [2,2,1,2],[3,2,2,1],[1,3,2,2],[3,3,2,1],[2,3,1,2],\n",
    "                [3,1,1,1],[1,2,1,1],[2,3,1,1],[2,1,1,2],[2,2,1,1]]"
   ]
  },
  {
   "cell_type": "markdown",
   "metadata": {},
   "source": [
    "## Univariate methods\n",
    "\n",
    "In this section we cover two methods:\n",
    "- CART,\n",
    "- C4.5.\n",
    "\n",
    "There are many more univariate methods. "
   ]
  },
  {
   "cell_type": "markdown",
   "metadata": {},
   "source": [
    "### CART"
   ]
  },
  {
   "cell_type": "code",
   "execution_count": 2,
   "metadata": {},
   "outputs": [],
   "source": [
    "class BinaryLeaf:\n",
    "\n",
    "    def __init__(self, elements, labels):\n",
    "        self.L = None\n",
    "        self.R = None\n",
    "        self.elements = elements\n",
    "        self.labels = labels\n",
    "        self.completed = False\n",
    "\n",
    "    def set_R(self, Rleaf):\n",
    "        self.R = Rleaf\n",
    "\n",
    "    def set_L(self, Lleaf):\n",
    "        self.L = Lleaf\n",
    "\n",
    "    def set_elements(self, elements):\n",
    "        self.elements = elements\n",
    "\n",
    "    def get_elements(self):\n",
    "        return self.elements\n",
    "\n",
    "    def set_p(self, threshold):\n",
    "        self.p = threshold\n",
    "\n",
    "    def get_L(self):\n",
    "        return self.L\n",
    "\n",
    "    def get_R(self):\n",
    "        return self.R\n",
    "\n",
    "    def set_completed(self):\n",
    "        self.completed = True\n",
    "\n",
    "    def is_completed(self):\n",
    "        return self.completed\n",
    "\n",
    "    def get_labels(self):\n",
    "        return self.labels\n"
   ]
  },
  {
   "cell_type": "code",
   "execution_count": 3,
   "metadata": {
    "collapsed": true
   },
   "outputs": [],
   "source": [
    "class TreeUtils:\n",
    "\n",
    "    def __init__(self, root):\n",
    "        self.root_node = root\n",
    "\n",
    "    def get_unique_labels(self, labels):\n",
    "        return numpy.unique(numpy.array(labels)).tolist()\n",
    "\n",
    "    def get_unique_values(self, elements):\n",
    "        features_number = len(elements[0])\n",
    "        unique = []\n",
    "        for i in range(features_number):\n",
    "            features_list = []\n",
    "            for j in range(len(elements)):\n",
    "                features_list.append(elements[j][i])\n",
    "            unique.append(numpy.unique(numpy.array(features_list)))\n",
    "        return unique\n",
    "\n",
    "    def is_binary_leaf_completed(self, node):\n",
    "        if node.is_completed():\n",
    "            if node.get_L() != None and not node.get_L().is_completed():\n",
    "                return node.get_L()\n",
    "            elif node.get_R() != None and not node.get_R().is_completed():\n",
    "                return node.get_R()\n",
    "            elif node.get_L() == None and node.get_R() == None:\n",
    "                return None\n",
    "            elif node.get_L().is_completed() or node.get_R().is_completed():\n",
    "                new_node = self.is_binary_leaf_completed(node.get_L())\n",
    "                if new_node == None:\n",
    "                    return self.is_binary_leaf_completed(node.get_R())\n",
    "                else:\n",
    "                    return new_node\n",
    "            else:\n",
    "                return None\n",
    "        return node\n",
    "\n",
    "    def find_binary_leaf_not_completed(self):\n",
    "        return self.is_binary_leaf_completed(self.root_node)\n",
    "\n",
    "    def is_leaf_completed(self, node):\n",
    "        if node.is_completed():\n",
    "            child_nodes = node.get_child_leafs()\n",
    "            if len(child_nodes) == 0:\n",
    "                return None\n",
    "            is_child_to_return = False\n",
    "            for i in range(len(child_nodes)):\n",
    "                if not child_nodes[i].is_completed():\n",
    "                    return child_nodes[i]\n",
    "                else:\n",
    "                    new_node = self.is_leaf_completed(child_nodes[i])\n",
    "                    if new_node != None:\n",
    "                        is_child_to_return=True\n",
    "            if is_child_to_return:\n",
    "                return new_node\n",
    "        return node\n",
    "\n",
    "    def find_leaf_not_completed(self):\n",
    "        return self.is_leaf_completed(self.root_node)\n",
    "    \n",
    "    def print_tree(self, root_node):\n",
    "        leafs_exists=True\n",
    "        level = 0\n",
    "\n",
    "        print(\"Level: \" + str(level))\n",
    "        print(str(root_node.get_elements()))\n",
    "        print(str(root_node.get_labels()))\n",
    "\n",
    "        current_nodes=[]\n",
    "        childs = root_node.get_child_leafs()\n",
    "        for i in range(len(childs)):\n",
    "            current_nodes.append([root_node,childs[i]])\n",
    "\n",
    "        while leafs_exists:\n",
    "            level = level + 1\n",
    "            print(\"Level: \" + str(level))\n",
    "            new_nodes = []\n",
    "            for i in range(len(current_nodes)):\n",
    "                print(\"ancestor: \"+ str(current_nodes[i][0].get_elements()) + \" \" + str(current_nodes[i][0].get_labels()))\n",
    "                print(\"child: \"   + str(current_nodes[i][1].get_elements()) + \" \" + str(current_nodes[i][1].get_labels()))\n",
    "                print(\"\")\n",
    "                if current_nodes[i][1].get_child_leafs() != None:\n",
    "                    childs = current_nodes[i][1].get_child_leafs()\n",
    "                    for j in range(len(childs)):\n",
    "                        new_nodes.append([current_nodes[i][1],childs[j]])\n",
    "            if len(new_nodes) == 0:\n",
    "                leafs_exists = False\n",
    "            else:\n",
    "                current_nodes = new_nodes\n",
    "\n",
    "    def print_binary_tree(self, root_node):\n",
    "        leafs_exists=True\n",
    "        level = 0\n",
    "\n",
    "        print(\"Level: \" + str(level))\n",
    "        print(str(root_node.get_elements()))\n",
    "        print(str(root_node.get_labels()))\n",
    "\n",
    "        current_nodes=[]\n",
    "        if root_node.get_L() != None:\n",
    "            current_nodes.append([root_node, root_node.get_L()])\n",
    "        if root_node.get_R() != None:\n",
    "            current_nodes.append([root_node, root_node.get_R()])\n",
    "\n",
    "        while leafs_exists:\n",
    "            level = level + 1\n",
    "            print(\"Level: \" + str(level))\n",
    "            new_nodes = []\n",
    "            for i in range(len(current_nodes)):\n",
    "                print(\"ancestor: \"+ str(current_nodes[i][0].get_elements()) + \" \" + str(current_nodes[i][0].get_labels()))\n",
    "                print(\"child: \"   + str(current_nodes[i][1].get_elements()) + \" \" + str(current_nodes[i][1].get_labels()))\n",
    "                print(\"\")\n",
    "                if current_nodes[i][1].get_L() != None:\n",
    "                    new_nodes.append([current_nodes[i][1], current_nodes[i][1].get_L()])\n",
    "                if current_nodes[i][1].get_R() != None:\n",
    "                    new_nodes.append([current_nodes[i][1], current_nodes[i][1].get_R()])\n",
    "            if len(new_nodes) == 0:\n",
    "                leafs_exists = False\n",
    "            else:\n",
    "                current_nodes = new_nodes    "
   ]
  },
  {
   "cell_type": "code",
   "execution_count": 5,
   "metadata": {
    "collapsed": true
   },
   "outputs": [],
   "source": [
    "import copy\n",
    "\n",
    "def get_split_candidates(unique_values):\n",
    "    split_list = []\n",
    "    for i in range(len(unique_values)):\n",
    "        current_list=[]\n",
    "        temp_list=copy.deepcopy(unique_values)\n",
    "        current_list.append(temp_list[i])\n",
    "        del temp_list[i]\n",
    "        current_list.append(temp_list)\n",
    "        split_list.append(current_list)\n",
    "    return split_list"
   ]
  },
  {
   "cell_type": "code",
   "execution_count": 6,
   "metadata": {
    "collapsed": true
   },
   "outputs": [],
   "source": [
    "def get_number_of_labels_for_value(elements, column_id, label):\n",
    "    count = 0\n",
    "    if not isinstance(elements, list):\n",
    "        elements_list = [elements]\n",
    "    else:\n",
    "        elements_list = elements\n",
    "\n",
    "    column_elements = get_node_elements_column(column_id)\n",
    "\n",
    "    for i in range(len(elements_list)):\n",
    "        for j in range(len(column_elements)):\n",
    "            if column_elements[j] == elements_list[i]:\n",
    "                if current_node.labels[j] == label:\n",
    "                    count = count + 1\n",
    "    return count"
   ]
  },
  {
   "cell_type": "code",
   "execution_count": 7,
   "metadata": {
    "collapsed": true
   },
   "outputs": [],
   "source": [
    "def get_node_elements_column(column_id):\n",
    "    return numpy.array(current_node.elements)[...,column_id].tolist()"
   ]
  },
  {
   "cell_type": "code",
   "execution_count": 8,
   "metadata": {
    "collapsed": true
   },
   "outputs": [],
   "source": [
    "def count_number_of_elements(elements, column_id):\n",
    "    count = 0\n",
    "    if isinstance(elements, list):\n",
    "        column_elements = get_node_elements_column(column_id)\n",
    "        for i in range(len(elements)):\n",
    "            count = count + column_elements.count(elements[i])\n",
    "    else:\n",
    "        count = count + get_node_elements_column(column_id).count(elements)\n",
    "    return count"
   ]
  },
  {
   "cell_type": "code",
   "execution_count": 20,
   "metadata": {},
   "outputs": [],
   "source": [
    "import math\n",
    "\n",
    "def calculate_omega(elements, column_id):\n",
    "    global utils\n",
    "    global current_node\n",
    "    global labels_count\n",
    "    print('omega', elements, column_id, current_node.elements)\n",
    "    t_l = count_number_of_elements(elements[0], column_id)\n",
    "    t_r = count_number_of_elements(elements[1], column_id)\n",
    "    p_l = t_l * 1.0 / len(current_node.elements) * 1.0\n",
    "    p_r = t_r * 1.0 / len(current_node.elements) * 1.0\n",
    "\n",
    "    sum_p = 0\n",
    "    labels = utils.get_unique_labels(current_node.labels)\n",
    "    for i in range(labels_count):\n",
    "        p_class_t_l = (get_number_of_labels_for_value(elements[0], column_id, labels[i])*1.0)/(count_number_of_elements(elements[0], column_id)*1.0)\n",
    "        p_class_t_r = (get_number_of_labels_for_value(elements[1], column_id, labels[i])*1.0)/(count_number_of_elements(elements[1], column_id)*1.0)\n",
    "        sum_p = sum_p + math.fabs(p_class_t_l-p_class_t_r)\n",
    "    return 2.0*p_l*p_r*sum_p"
   ]
  },
  {
   "cell_type": "code",
   "execution_count": 10,
   "metadata": {
    "collapsed": true
   },
   "outputs": [],
   "source": [
    "def check_completed(labels, elements):\n",
    "    global utils\n",
    "    ratio = len(utils.get_unique_labels(labels))\n",
    "    if ratio == 1:\n",
    "        return True\n",
    "    elements=sorted(elements)\n",
    "    duplicated = [elements[i] for i in range(len(elements)) if i == 0 or elements[i] != elements[i-1]]\n",
    "    if len(duplicated) == 1:\n",
    "        return True\n",
    "    return False"
   ]
  },
  {
   "cell_type": "code",
   "execution_count": 11,
   "metadata": {
    "collapsed": true
   },
   "outputs": [],
   "source": [
    "def split_node(value, split_id):\n",
    "    global current_node\n",
    "    left_leaf = []\n",
    "    left_leaf_labels = []\n",
    "    right_leaf = []\n",
    "    right_leaf_labels = []\n",
    "    for i in range(len(current_node.elements)):\n",
    "        if current_node.elements[i][split_id] == value:\n",
    "            left_leaf.append(current_node.elements[i])\n",
    "            left_leaf_labels.append(current_node.labels[i])\n",
    "        else:\n",
    "            right_leaf.append(current_node.elements[i])\n",
    "            right_leaf_labels.append(current_node.labels[i])\n",
    "    current_node.set_L(BinaryLeaf(left_leaf, left_leaf_labels))\n",
    "    current_node.set_R(BinaryLeaf(right_leaf, right_leaf_labels))\n",
    "    current_node.set_completed()\n",
    "    if check_completed(left_leaf_labels, left_leaf):\n",
    "        current_node.L.set_completed()\n",
    "    if check_completed(right_leaf_labels, right_leaf):\n",
    "        current_node.R.set_completed()"
   ]
  },
  {
   "cell_type": "code",
   "execution_count": 12,
   "metadata": {
    "collapsed": true
   },
   "outputs": [],
   "source": [
    "def get_current_node():\n",
    "    global utils\n",
    "    return utils.find_binary_leaf_not_completed()"
   ]
  },
  {
   "cell_type": "code",
   "execution_count": 26,
   "metadata": {
    "collapsed": true
   },
   "outputs": [],
   "source": [
    "def build():\n",
    "    global current_node\n",
    "    global utils\n",
    "    stop_criterion = False\n",
    "    while stop_criterion == False:\n",
    "        unique_values = utils.get_unique_values(current_node.get_elements())\n",
    "        print('unique_values', unique_values)\n",
    "        max_unique_id = 0\n",
    "        max_split_id = 0\n",
    "        max_value = None\n",
    "        for i in range(len(unique_values)):\n",
    "            if len(unique_values[i]) == 1:\n",
    "                continue\n",
    "            split_candidates = get_split_candidates(unique_values[i].tolist())\n",
    "            print('split_candidates', split_candidates)\n",
    "            for j in range(len(split_candidates)):\n",
    "                current_value = calculate_omega(split_candidates[j],i)\n",
    "                if max_value == None or max_value > current_value:\n",
    "                    max_unique_id = i\n",
    "                    max_split_id = j\n",
    "                    max_value = current_value\n",
    "        split_node(unique_values[max_unique_id][max_split_id], max_unique_id)\n",
    "        new_node = get_current_node()\n",
    "        if new_node != None:\n",
    "            current_node = new_node\n",
    "        else:\n",
    "            stop_criterion = True"
   ]
  },
  {
   "cell_type": "code",
   "execution_count": 27,
   "metadata": {
    "collapsed": true
   },
   "outputs": [],
   "source": [
    "root = BinaryLeaf(X, labels)\n",
    "utils = TreeUtils(root)\n",
    "current_node = root\n",
    "labels_count = 2"
   ]
  },
  {
   "cell_type": "code",
   "execution_count": 28,
   "metadata": {},
   "outputs": [
    {
     "name": "stdout",
     "output_type": "stream",
     "text": [
      "unique_values [array([1, 2, 3]), array([1, 2, 3]), array([1, 2]), array([1, 2])]\n",
      "split_candidates [[1, [2, 3]], [2, [1, 3]], [3, [1, 2]]]\n",
      "split_candidates [[1, [2, 3]], [2, [1, 3]], [3, [1, 2]]]\n",
      "split_candidates [[1, [2]], [2, [1]]]\n",
      "split_candidates [[1, [2]], [2, [1]]]\n",
      "unique_values [array([1, 2, 3]), array([1]), array([1, 2]), array([1, 2])]\n",
      "split_candidates [[1, [2, 3]], [2, [1, 3]], [3, [1, 2]]]\n",
      "split_candidates [[1, [2]], [2, [1]]]\n",
      "split_candidates [[1, [2]], [2, [1]]]\n",
      "unique_values [array([1, 2, 3]), array([2, 3]), array([1, 2]), array([1, 2])]\n",
      "split_candidates [[1, [2, 3]], [2, [1, 3]], [3, [1, 2]]]\n",
      "split_candidates [[2, [3]], [3, [2]]]\n",
      "split_candidates [[1, [2]], [2, [1]]]\n",
      "split_candidates [[1, [2]], [2, [1]]]\n",
      "unique_values [array([1]), array([1]), array([1, 2]), array([2])]\n",
      "split_candidates [[1, [2]], [2, [1]]]\n",
      "unique_values [array([2, 3]), array([1]), array([1, 2]), array([1, 2])]\n",
      "split_candidates [[2, [3]], [3, [2]]]\n",
      "split_candidates [[1, [2]], [2, [1]]]\n",
      "split_candidates [[1, [2]], [2, [1]]]\n",
      "unique_values [array([2]), array([1]), array([1, 2]), array([2])]\n",
      "split_candidates [[1, [2]], [2, [1]]]\n",
      "unique_values [array([1, 2, 3]), array([2]), array([1, 2]), array([1, 2])]\n",
      "split_candidates [[1, [2, 3]], [2, [1, 3]], [3, [1, 2]]]\n",
      "split_candidates [[1, [2]], [2, [1]]]\n",
      "split_candidates [[1, [2]], [2, [1]]]\n",
      "unique_values [array([1, 2, 3]), array([3]), array([1, 2]), array([1, 2])]\n",
      "split_candidates [[1, [2, 3]], [2, [1, 3]], [3, [1, 2]]]\n",
      "split_candidates [[1, [2]], [2, [1]]]\n",
      "split_candidates [[1, [2]], [2, [1]]]\n",
      "unique_values [array([1, 2, 3]), array([2]), array([1, 2]), array([1])]\n",
      "split_candidates [[1, [2, 3]], [2, [1, 3]], [3, [1, 2]]]\n",
      "split_candidates [[1, [2]], [2, [1]]]\n",
      "unique_values [array([1, 2]), array([2]), array([1]), array([2])]\n",
      "split_candidates [[1, [2]], [2, [1]]]\n",
      "unique_values [array([2, 3]), array([2]), array([1, 2]), array([1])]\n",
      "split_candidates [[2, [3]], [3, [2]]]\n",
      "split_candidates [[1, [2]], [2, [1]]]\n",
      "unique_values [array([2]), array([3]), array([1]), array([1, 2])]\n",
      "split_candidates [[1, [2]], [2, [1]]]\n",
      "unique_values [array([1, 2, 3]), array([3]), array([2]), array([1, 2])]\n",
      "split_candidates [[1, [2, 3]], [2, [1, 3]], [3, [1, 2]]]\n",
      "split_candidates [[1, [2]], [2, [1]]]\n",
      "unique_values [array([2, 3]), array([3]), array([2]), array([1, 2])]\n",
      "split_candidates [[2, [3]], [3, [2]]]\n",
      "split_candidates [[1, [2]], [2, [1]]]\n"
     ]
    }
   ],
   "source": [
    "build()"
   ]
  },
  {
   "cell_type": "code",
   "execution_count": 29,
   "metadata": {},
   "outputs": [],
   "source": [
    "def show_tree():\n",
    "    global root\n",
    "    global utils\n",
    "    utils.print_binary_tree(root)"
   ]
  },
  {
   "cell_type": "code",
   "execution_count": 30,
   "metadata": {},
   "outputs": [
    {
     "name": "stdout",
     "output_type": "stream",
     "text": [
      "Level: 0\n",
      "[[1, 1, 2, 2], [2, 1, 2, 2], [1, 1, 1, 2], [1, 2, 1, 2], [2, 3, 2, 2], [2, 2, 1, 2], [3, 2, 2, 1], [1, 3, 2, 2], [3, 3, 2, 1], [2, 3, 1, 2], [3, 1, 1, 1], [1, 2, 1, 1], [2, 3, 1, 1], [2, 1, 1, 2], [2, 2, 1, 1]]\n",
      "[1, 1, -1, 1, -1, -1, 1, 1, 1, 1, 1, 1, -1, -1, -1]\n",
      "Level: 1\n",
      "ancestor: [[1, 1, 2, 2], [2, 1, 2, 2], [1, 1, 1, 2], [1, 2, 1, 2], [2, 3, 2, 2], [2, 2, 1, 2], [3, 2, 2, 1], [1, 3, 2, 2], [3, 3, 2, 1], [2, 3, 1, 2], [3, 1, 1, 1], [1, 2, 1, 1], [2, 3, 1, 1], [2, 1, 1, 2], [2, 2, 1, 1]] [1, 1, -1, 1, -1, -1, 1, 1, 1, 1, 1, 1, -1, -1, -1]\n",
      "child: [[1, 1, 2, 2], [2, 1, 2, 2], [1, 1, 1, 2], [3, 1, 1, 1], [2, 1, 1, 2]] [1, 1, -1, 1, -1]\n",
      "\n",
      "ancestor: [[1, 1, 2, 2], [2, 1, 2, 2], [1, 1, 1, 2], [1, 2, 1, 2], [2, 3, 2, 2], [2, 2, 1, 2], [3, 2, 2, 1], [1, 3, 2, 2], [3, 3, 2, 1], [2, 3, 1, 2], [3, 1, 1, 1], [1, 2, 1, 1], [2, 3, 1, 1], [2, 1, 1, 2], [2, 2, 1, 1]] [1, 1, -1, 1, -1, -1, 1, 1, 1, 1, 1, 1, -1, -1, -1]\n",
      "child: [[1, 2, 1, 2], [2, 3, 2, 2], [2, 2, 1, 2], [3, 2, 2, 1], [1, 3, 2, 2], [3, 3, 2, 1], [2, 3, 1, 2], [1, 2, 1, 1], [2, 3, 1, 1], [2, 2, 1, 1]] [1, -1, -1, 1, 1, 1, 1, 1, -1, -1]\n",
      "\n",
      "Level: 2\n",
      "ancestor: [[1, 1, 2, 2], [2, 1, 2, 2], [1, 1, 1, 2], [3, 1, 1, 1], [2, 1, 1, 2]] [1, 1, -1, 1, -1]\n",
      "child: [[1, 1, 2, 2], [1, 1, 1, 2]] [1, -1]\n",
      "\n",
      "ancestor: [[1, 1, 2, 2], [2, 1, 2, 2], [1, 1, 1, 2], [3, 1, 1, 1], [2, 1, 1, 2]] [1, 1, -1, 1, -1]\n",
      "child: [[2, 1, 2, 2], [3, 1, 1, 1], [2, 1, 1, 2]] [1, 1, -1]\n",
      "\n",
      "ancestor: [[1, 2, 1, 2], [2, 3, 2, 2], [2, 2, 1, 2], [3, 2, 2, 1], [1, 3, 2, 2], [3, 3, 2, 1], [2, 3, 1, 2], [1, 2, 1, 1], [2, 3, 1, 1], [2, 2, 1, 1]] [1, -1, -1, 1, 1, 1, 1, 1, -1, -1]\n",
      "child: [[1, 2, 1, 2], [2, 2, 1, 2], [3, 2, 2, 1], [1, 2, 1, 1], [2, 2, 1, 1]] [1, -1, 1, 1, -1]\n",
      "\n",
      "ancestor: [[1, 2, 1, 2], [2, 3, 2, 2], [2, 2, 1, 2], [3, 2, 2, 1], [1, 3, 2, 2], [3, 3, 2, 1], [2, 3, 1, 2], [1, 2, 1, 1], [2, 3, 1, 1], [2, 2, 1, 1]] [1, -1, -1, 1, 1, 1, 1, 1, -1, -1]\n",
      "child: [[2, 3, 2, 2], [1, 3, 2, 2], [3, 3, 2, 1], [2, 3, 1, 2], [2, 3, 1, 1]] [-1, 1, 1, 1, -1]\n",
      "\n",
      "Level: 3\n",
      "ancestor: [[1, 1, 2, 2], [1, 1, 1, 2]] [1, -1]\n",
      "child: [[1, 1, 1, 2]] [-1]\n",
      "\n",
      "ancestor: [[1, 1, 2, 2], [1, 1, 1, 2]] [1, -1]\n",
      "child: [[1, 1, 2, 2]] [1]\n",
      "\n",
      "ancestor: [[2, 1, 2, 2], [3, 1, 1, 1], [2, 1, 1, 2]] [1, 1, -1]\n",
      "child: [[2, 1, 2, 2], [2, 1, 1, 2]] [1, -1]\n",
      "\n",
      "ancestor: [[2, 1, 2, 2], [3, 1, 1, 1], [2, 1, 1, 2]] [1, 1, -1]\n",
      "child: [[3, 1, 1, 1]] [1]\n",
      "\n",
      "ancestor: [[1, 2, 1, 2], [2, 2, 1, 2], [3, 2, 2, 1], [1, 2, 1, 1], [2, 2, 1, 1]] [1, -1, 1, 1, -1]\n",
      "child: [[3, 2, 2, 1], [1, 2, 1, 1], [2, 2, 1, 1]] [1, 1, -1]\n",
      "\n",
      "ancestor: [[1, 2, 1, 2], [2, 2, 1, 2], [3, 2, 2, 1], [1, 2, 1, 1], [2, 2, 1, 1]] [1, -1, 1, 1, -1]\n",
      "child: [[1, 2, 1, 2], [2, 2, 1, 2]] [1, -1]\n",
      "\n",
      "ancestor: [[2, 3, 2, 2], [1, 3, 2, 2], [3, 3, 2, 1], [2, 3, 1, 2], [2, 3, 1, 1]] [-1, 1, 1, 1, -1]\n",
      "child: [[2, 3, 1, 2], [2, 3, 1, 1]] [1, -1]\n",
      "\n",
      "ancestor: [[2, 3, 2, 2], [1, 3, 2, 2], [3, 3, 2, 1], [2, 3, 1, 2], [2, 3, 1, 1]] [-1, 1, 1, 1, -1]\n",
      "child: [[2, 3, 2, 2], [1, 3, 2, 2], [3, 3, 2, 1]] [-1, 1, 1]\n",
      "\n",
      "Level: 4\n",
      "ancestor: [[2, 1, 2, 2], [2, 1, 1, 2]] [1, -1]\n",
      "child: [[2, 1, 1, 2]] [-1]\n",
      "\n",
      "ancestor: [[2, 1, 2, 2], [2, 1, 1, 2]] [1, -1]\n",
      "child: [[2, 1, 2, 2]] [1]\n",
      "\n",
      "ancestor: [[3, 2, 2, 1], [1, 2, 1, 1], [2, 2, 1, 1]] [1, 1, -1]\n",
      "child: [[1, 2, 1, 1]] [1]\n",
      "\n",
      "ancestor: [[3, 2, 2, 1], [1, 2, 1, 1], [2, 2, 1, 1]] [1, 1, -1]\n",
      "child: [[3, 2, 2, 1], [2, 2, 1, 1]] [1, -1]\n",
      "\n",
      "ancestor: [[1, 2, 1, 2], [2, 2, 1, 2]] [1, -1]\n",
      "child: [[1, 2, 1, 2]] [1]\n",
      "\n",
      "ancestor: [[1, 2, 1, 2], [2, 2, 1, 2]] [1, -1]\n",
      "child: [[2, 2, 1, 2]] [-1]\n",
      "\n",
      "ancestor: [[2, 3, 1, 2], [2, 3, 1, 1]] [1, -1]\n",
      "child: [[2, 3, 1, 1]] [-1]\n",
      "\n",
      "ancestor: [[2, 3, 1, 2], [2, 3, 1, 1]] [1, -1]\n",
      "child: [[2, 3, 1, 2]] [1]\n",
      "\n",
      "ancestor: [[2, 3, 2, 2], [1, 3, 2, 2], [3, 3, 2, 1]] [-1, 1, 1]\n",
      "child: [[1, 3, 2, 2]] [1]\n",
      "\n",
      "ancestor: [[2, 3, 2, 2], [1, 3, 2, 2], [3, 3, 2, 1]] [-1, 1, 1]\n",
      "child: [[2, 3, 2, 2], [3, 3, 2, 1]] [-1, 1]\n",
      "\n",
      "Level: 5\n",
      "ancestor: [[3, 2, 2, 1], [2, 2, 1, 1]] [1, -1]\n",
      "child: [[2, 2, 1, 1]] [-1]\n",
      "\n",
      "ancestor: [[3, 2, 2, 1], [2, 2, 1, 1]] [1, -1]\n",
      "child: [[3, 2, 2, 1]] [1]\n",
      "\n",
      "ancestor: [[2, 3, 2, 2], [3, 3, 2, 1]] [-1, 1]\n",
      "child: [[2, 3, 2, 2]] [-1]\n",
      "\n",
      "ancestor: [[2, 3, 2, 2], [3, 3, 2, 1]] [-1, 1]\n",
      "child: [[3, 3, 2, 1]] [1]\n",
      "\n"
     ]
    }
   ],
   "source": [
    "show_tree()"
   ]
  },
  {
   "cell_type": "markdown",
   "metadata": {},
   "source": [
    "#### Exercise 1: Rewrite the CART method to use Gini index as shown in the lecture\n",
    "\n",
    "Use the following equation:\n",
    "\\begin{equation}\n",
    "I_{G}(X)=1-\\sum_{i=1}^{m}p^{2}_{i},\n",
    "\\end{equation}\n",
    "and\n",
    "\\begin{equation}\n",
    "I_{G}(\\text{feature})=1-\\sum_{i=1}^{n}p_{i}*I_{G}(X_{i}),\n",
    "\\end{equation}\n",
    "\n"
   ]
  },
  {
   "cell_type": "code",
   "execution_count": 19,
   "metadata": {
    "collapsed": true
   },
   "outputs": [],
   "source": [
    "import numpy as np"
   ]
  },
  {
   "cell_type": "code",
   "execution_count": 23,
   "metadata": {
    "collapsed": true
   },
   "outputs": [],
   "source": [
    "# your code goes here:\n",
    "\n",
    "def calculate_omega(elements, column_id):\n",
    "    global utils\n",
    "    global current_node\n",
    "    global labels_count\n",
    "    t_l = count_number_of_elements(elements[0], column_id)\n",
    "    t_r = count_number_of_elements(elements[1], column_id)\n",
    "    p_l = t_l * 1.0 / len(current_node.elements) * 1.0\n",
    "    p_r = t_r * 1.0 / len(current_node.elements) * 1.0\n",
    "\n",
    "    sum_l = 1\n",
    "    sum_r = 1\n",
    "    labels = utils.get_unique_labels(current_node.labels)\n",
    "    for i in range(labels_count):\n",
    "        p_class_t_l = (get_number_of_labels_for_value(elements[0], column_id, labels[i])*1.0)/(count_number_of_elements(elements[0], column_id)*1.0)\n",
    "        p_class_t_r = (get_number_of_labels_for_value(elements[1], column_id, labels[i])*1.0)/(count_number_of_elements(elements[1], column_id)*1.0)\n",
    "        sum_l -= p_class_t_l ** 2\n",
    "        sum_r -= p_class_t_r ** 2\n",
    "        \n",
    "    return 1 - (p_l * sum_l + p_r * sum_r)\n"
   ]
  },
  {
   "cell_type": "markdown",
   "metadata": {},
   "source": [
    "### C4.5"
   ]
  },
  {
   "cell_type": "code",
   "execution_count": 32,
   "metadata": {
    "collapsed": true
   },
   "outputs": [],
   "source": [
    "class Leaf:\n",
    "\n",
    "    def __init__(self, elements, labels):\n",
    "        self.child_leafs = []\n",
    "        self.elements = elements\n",
    "        self.labels = labels\n",
    "        self.completed = False\n",
    "\n",
    "    def get_elements(self):\n",
    "        return self.elements\n",
    "\n",
    "    def set_child_leafs(self, new_leafs):\n",
    "        self.child_leafs = new_leafs\n",
    "\n",
    "    def set_completed(self):\n",
    "        self.completed = True\n",
    "\n",
    "    def is_completed(self):\n",
    "        return self.completed\n",
    "\n",
    "    def get_labels(self):\n",
    "        return self.labels\n",
    "\n",
    "    def get_child_leafs(self):\n",
    "        return self.child_leafs"
   ]
  },
  {
   "cell_type": "code",
   "execution_count": 33,
   "metadata": {
    "collapsed": true
   },
   "outputs": [],
   "source": [
    "def get_current_node():\n",
    "    global utils\n",
    "    return utils.find_leaf_not_completed()"
   ]
  },
  {
   "cell_type": "code",
   "execution_count": 34,
   "metadata": {
    "collapsed": true
   },
   "outputs": [],
   "source": [
    "def split(split_values, column_id):\n",
    "    global current_node\n",
    "    new_leafs = []\n",
    "    for i in range(len(split_values)):\n",
    "        indices = numpy.where(numpy.array(current_node.get_elements())[..., column_id].tolist() == split_values[i])\n",
    "        new_leaf_elements = numpy.array(current_node.get_elements())[indices].tolist()\n",
    "        new_leaf_labels   = numpy.array(current_node.get_labels())[indices].tolist()\n",
    "        new_leaf = Leaf(new_leaf_elements,new_leaf_labels)\n",
    "        if len(numpy.unique(new_leaf_labels)) == 1:\n",
    "            new_leaf.set_completed()\n",
    "        new_leafs.append(new_leaf)\n",
    "    current_node.set_child_leafs(new_leafs)\n",
    "    current_node.set_completed()"
   ]
  },
  {
   "cell_type": "code",
   "execution_count": 35,
   "metadata": {
    "collapsed": true
   },
   "outputs": [],
   "source": [
    "class Entropy:\n",
    "\n",
    "    def calculate_entropy(self, labels):\n",
    "        unique_labels, labels_count = numpy.unique(labels, return_counts=True)\n",
    "        entropy = 0\n",
    "        size = len(labels)\n",
    "        for i in range(len(unique_labels)):\n",
    "            if labels_count[i] > 0:\n",
    "                log2=math.log((labels_count[i]*1.0)/(size*1.0),2)\n",
    "            else:\n",
    "                log2=0.0\n",
    "            entropy=entropy-1.0*((labels_count[i]*1.0)/size)*log2\n",
    "        return entropy\n",
    "\n",
    "    def calculate_split_candidate_entropy(self, full_entropy, labels, elements, unique_labels, unique_elements, iter):\n",
    "        split_entropy=0\n",
    "        for i in range(len(unique_elements)):\n",
    "            indices = numpy.where(numpy.array(elements)[..., iter].tolist() == unique_elements[i])\n",
    "            unique_size = len(indices[0].tolist())\n",
    "            filtered_labels = numpy.array(labels)[indices]\n",
    "            for j in range(len(unique_labels)):\n",
    "                labels_count = filtered_labels.tolist().count(unique_labels[j])\n",
    "                if labels_count > 0:\n",
    "                    log2=math.log((labels_count*1.0)/(unique_size*1.0),2)\n",
    "                else:\n",
    "                    log2=0.0\n",
    "                split_entropy = split_entropy -1.0*((labels_count*1.0)/unique_size*1.0)*log2*unique_size*1.0/len(elements)*1.0\n",
    "        return (full_entropy-split_entropy)\n"
   ]
  },
  {
   "cell_type": "code",
   "execution_count": 36,
   "metadata": {
    "collapsed": true
   },
   "outputs": [],
   "source": [
    "def build():\n",
    "    global root\n",
    "    global current_node\n",
    "    stop_criterion = False\n",
    "    current_node = root\n",
    "    entropy = Entropy()\n",
    "    unique_labels = utils.get_unique_labels(root.get_labels())\n",
    "    while stop_criterion == False:\n",
    "        unique_values = utils.get_unique_values(current_node.get_elements())\n",
    "        full_entropy = entropy.calculate_entropy(current_node.get_labels())\n",
    "        max_entropy_id = 0\n",
    "        max_entropy_value = 0\n",
    "        for i in range(len(unique_values)):\n",
    "            split_entropy = entropy.calculate_split_candidate_entropy(full_entropy, current_node.get_labels(), current_node.get_elements(), unique_labels, unique_values[i], i)\n",
    "            if split_entropy > max_entropy_value:\n",
    "                max_entropy_id = i\n",
    "                max_entropy_value = split_entropy\n",
    "        split(unique_values[max_entropy_id], max_entropy_id)\n",
    "        new_node = get_current_node()\n",
    "        if new_node != None:\n",
    "            current_node = new_node\n",
    "        else:\n",
    "            stop_criterion = True"
   ]
  },
  {
   "cell_type": "code",
   "execution_count": 37,
   "metadata": {
    "collapsed": true
   },
   "outputs": [],
   "source": [
    "root = Leaf(X, labels)\n",
    "utils = TreeUtils(root)\n",
    "current_node = root\n",
    "labels_count = labels_count"
   ]
  },
  {
   "cell_type": "code",
   "execution_count": 38,
   "metadata": {},
   "outputs": [],
   "source": [
    "build()"
   ]
  },
  {
   "cell_type": "code",
   "execution_count": 39,
   "metadata": {
    "collapsed": true
   },
   "outputs": [],
   "source": [
    "def show_tree():\n",
    "    global utils\n",
    "    global root\n",
    "    utils.print_tree(root)"
   ]
  },
  {
   "cell_type": "code",
   "execution_count": 40,
   "metadata": {},
   "outputs": [
    {
     "name": "stdout",
     "output_type": "stream",
     "text": [
      "Level: 0\n",
      "[[1, 1, 2, 2], [2, 1, 2, 2], [1, 1, 1, 2], [1, 2, 1, 2], [2, 3, 2, 2], [2, 2, 1, 2], [3, 2, 2, 1], [1, 3, 2, 2], [3, 3, 2, 1], [2, 3, 1, 2], [3, 1, 1, 1], [1, 2, 1, 1], [2, 3, 1, 1], [2, 1, 1, 2], [2, 2, 1, 1]]\n",
      "[1, 1, -1, 1, -1, -1, 1, 1, 1, 1, 1, 1, -1, -1, -1]\n",
      "Level: 1\n",
      "ancestor: [[1, 1, 2, 2], [2, 1, 2, 2], [1, 1, 1, 2], [1, 2, 1, 2], [2, 3, 2, 2], [2, 2, 1, 2], [3, 2, 2, 1], [1, 3, 2, 2], [3, 3, 2, 1], [2, 3, 1, 2], [3, 1, 1, 1], [1, 2, 1, 1], [2, 3, 1, 1], [2, 1, 1, 2], [2, 2, 1, 1]] [1, 1, -1, 1, -1, -1, 1, 1, 1, 1, 1, 1, -1, -1, -1]\n",
      "child: [[1, 1, 2, 2], [1, 1, 1, 2], [1, 2, 1, 2], [1, 3, 2, 2], [1, 2, 1, 1]] [1, -1, 1, 1, 1]\n",
      "\n",
      "ancestor: [[1, 1, 2, 2], [2, 1, 2, 2], [1, 1, 1, 2], [1, 2, 1, 2], [2, 3, 2, 2], [2, 2, 1, 2], [3, 2, 2, 1], [1, 3, 2, 2], [3, 3, 2, 1], [2, 3, 1, 2], [3, 1, 1, 1], [1, 2, 1, 1], [2, 3, 1, 1], [2, 1, 1, 2], [2, 2, 1, 1]] [1, 1, -1, 1, -1, -1, 1, 1, 1, 1, 1, 1, -1, -1, -1]\n",
      "child: [[2, 1, 2, 2], [2, 3, 2, 2], [2, 2, 1, 2], [2, 3, 1, 2], [2, 3, 1, 1], [2, 1, 1, 2], [2, 2, 1, 1]] [1, -1, -1, 1, -1, -1, -1]\n",
      "\n",
      "ancestor: [[1, 1, 2, 2], [2, 1, 2, 2], [1, 1, 1, 2], [1, 2, 1, 2], [2, 3, 2, 2], [2, 2, 1, 2], [3, 2, 2, 1], [1, 3, 2, 2], [3, 3, 2, 1], [2, 3, 1, 2], [3, 1, 1, 1], [1, 2, 1, 1], [2, 3, 1, 1], [2, 1, 1, 2], [2, 2, 1, 1]] [1, 1, -1, 1, -1, -1, 1, 1, 1, 1, 1, 1, -1, -1, -1]\n",
      "child: [[3, 2, 2, 1], [3, 3, 2, 1], [3, 1, 1, 1]] [1, 1, 1]\n",
      "\n",
      "Level: 2\n",
      "ancestor: [[1, 1, 2, 2], [1, 1, 1, 2], [1, 2, 1, 2], [1, 3, 2, 2], [1, 2, 1, 1]] [1, -1, 1, 1, 1]\n",
      "child: [[1, 1, 2, 2], [1, 1, 1, 2]] [1, -1]\n",
      "\n",
      "ancestor: [[1, 1, 2, 2], [1, 1, 1, 2], [1, 2, 1, 2], [1, 3, 2, 2], [1, 2, 1, 1]] [1, -1, 1, 1, 1]\n",
      "child: [[1, 2, 1, 2], [1, 2, 1, 1]] [1, 1]\n",
      "\n",
      "ancestor: [[1, 1, 2, 2], [1, 1, 1, 2], [1, 2, 1, 2], [1, 3, 2, 2], [1, 2, 1, 1]] [1, -1, 1, 1, 1]\n",
      "child: [[1, 3, 2, 2]] [1]\n",
      "\n",
      "ancestor: [[2, 1, 2, 2], [2, 3, 2, 2], [2, 2, 1, 2], [2, 3, 1, 2], [2, 3, 1, 1], [2, 1, 1, 2], [2, 2, 1, 1]] [1, -1, -1, 1, -1, -1, -1]\n",
      "child: [[2, 1, 2, 2], [2, 1, 1, 2]] [1, -1]\n",
      "\n",
      "ancestor: [[2, 1, 2, 2], [2, 3, 2, 2], [2, 2, 1, 2], [2, 3, 1, 2], [2, 3, 1, 1], [2, 1, 1, 2], [2, 2, 1, 1]] [1, -1, -1, 1, -1, -1, -1]\n",
      "child: [[2, 2, 1, 2], [2, 2, 1, 1]] [-1, -1]\n",
      "\n",
      "ancestor: [[2, 1, 2, 2], [2, 3, 2, 2], [2, 2, 1, 2], [2, 3, 1, 2], [2, 3, 1, 1], [2, 1, 1, 2], [2, 2, 1, 1]] [1, -1, -1, 1, -1, -1, -1]\n",
      "child: [[2, 3, 2, 2], [2, 3, 1, 2], [2, 3, 1, 1]] [-1, 1, -1]\n",
      "\n"
     ]
    }
   ],
   "source": [
    "show_tree()"
   ]
  },
  {
   "cell_type": "markdown",
   "metadata": {
    "collapsed": true
   },
   "source": [
    "### Exercise 2: Use pydot do draw the tree for C4.5 example"
   ]
  },
  {
   "cell_type": "code",
   "execution_count": 41,
   "metadata": {},
   "outputs": [
    {
     "ename": "ImportError",
     "evalue": "No module named 'pydot'",
     "output_type": "error",
     "traceback": [
      "\u001b[0;31m---------------------------------------------------------------------------\u001b[0m",
      "\u001b[0;31mImportError\u001b[0m                               Traceback (most recent call last)",
      "\u001b[0;32m<ipython-input-41-8189bd158075>\u001b[0m in \u001b[0;36m<module>\u001b[0;34m()\u001b[0m\n\u001b[0;32m----> 1\u001b[0;31m \u001b[0;32mimport\u001b[0m \u001b[0mpydot\u001b[0m\u001b[0;34m\u001b[0m\u001b[0m\n\u001b[0m",
      "\u001b[0;31mImportError\u001b[0m: No module named 'pydot'"
     ]
    }
   ],
   "source": [
    "import pydot"
   ]
  },
  {
   "cell_type": "code",
   "execution_count": null,
   "metadata": {
    "collapsed": true
   },
   "outputs": [],
   "source": []
  }
 ],
 "metadata": {
  "kernelspec": {
   "display_name": "Python 3",
   "language": "python",
   "name": "python3"
  },
  "language_info": {
   "codemirror_mode": {
    "name": "ipython",
    "version": 3
   },
   "file_extension": ".py",
   "mimetype": "text/x-python",
   "name": "python",
   "nbconvert_exporter": "python",
   "pygments_lexer": "ipython3",
   "version": "3.4.3"
  }
 },
 "nbformat": 4,
 "nbformat_minor": 2
}
