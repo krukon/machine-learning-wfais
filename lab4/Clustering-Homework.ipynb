{
 "cells": [
  {
   "cell_type": "markdown",
   "metadata": {},
   "source": [
    "### Homework: Implement possibilistic k-means\n",
    "\n",
    "Goal:\n",
    "1. Implement the mahalanobis_distance function.\n",
    "2. Implement the calculate_eta function.\n",
    "3. Implement the calculate_u.\n",
    "\n",
    "Hint: the assignation matrix should not be set to zeros at the beginning.\n",
    "\n",
    "**Deadline:** 4.04.2018\n"
   ]
  },
  {
   "cell_type": "code",
   "execution_count": 316,
   "metadata": {
    "collapsed": true
   },
   "outputs": [],
   "source": [
    "import numpy as np\n",
    "import matplotlib.pyplot as plt\n",
    "import sklearn.datasets as ds\n",
    "from scipy.spatial.distance import cdist"
   ]
  },
  {
   "cell_type": "code",
   "execution_count": 54,
   "metadata": {
    "collapsed": true
   },
   "outputs": [],
   "source": [
    "error_margin = 1e-6"
   ]
  },
  {
   "cell_type": "code",
   "execution_count": 217,
   "metadata": {
    "collapsed": true
   },
   "outputs": [],
   "source": [
    "clusters = 3"
   ]
  },
  {
   "cell_type": "code",
   "execution_count": 330,
   "metadata": {
    "collapsed": true
   },
   "outputs": [],
   "source": [
    "x, true_assignation = ds.make_blobs(100, 2, clusters)\n",
    "# x"
   ]
  },
  {
   "cell_type": "code",
   "execution_count": 331,
   "metadata": {
    "collapsed": true
   },
   "outputs": [],
   "source": [
    "x_norm = (x - np.min(x, axis=0)) / (np.max(x, axis=0) - np.min(x, axis=0))\n",
    "# x_norm"
   ]
  },
  {
   "cell_type": "code",
   "execution_count": 332,
   "metadata": {
    "collapsed": true
   },
   "outputs": [],
   "source": [
    "def mahalanobis_distance_2(u, v, VI):\n",
    "    return np.matmul(np.matmul((u - v), VI), (u - v).T)\n",
    "\n",
    "# def mahalanobis_distance(u, v, VI):\n",
    "#     return np.sqrt(mahalanobis_distance_2(u, v, VI))"
   ]
  },
  {
   "cell_type": "code",
   "execution_count": 333,
   "metadata": {
    "collapsed": true
   },
   "outputs": [],
   "source": [
    "def calculate_eta(u, D2, m):\n",
    "    u_m = np.power(u, m)\n",
    "    return np.sum(u_m * D2, axis=0) / np.sum(u_m, axis=0)"
   ]
  },
  {
   "cell_type": "code",
   "execution_count": 436,
   "metadata": {
    "collapsed": true
   },
   "outputs": [],
   "source": [
    "def calculate_D2(x, v, A):\n",
    "    D2 = cdist(x, v, metric='euclidean')\n",
    "    D2 = np.fmax(D2, np.finfo(x.dtype).eps)\n",
    "    return D2\n",
    "    D2 = np.zeros([v.shape[0], x.shape[0]])\n",
    "    for k, x_k in enumerate(x):\n",
    "        for i, v_i in enumerate(v):\n",
    "#             D2[i,k] = np.sum(np.square(x_k - v_i))\n",
    "            D2[i,k] = mahalanobis_distance_2(x_k, v_i, A)\n",
    "    D2 = np.fmax(D2, np.finfo(x.dtype).eps)\n",
    "    return D2.T"
   ]
  },
  {
   "cell_type": "code",
   "execution_count": 437,
   "metadata": {
    "collapsed": true
   },
   "outputs": [],
   "source": [
    "def calculate_u(u, x, v, D2, m):\n",
    "    eta = calculate_eta(u, D2, m) #+ 1e-10\n",
    "    eta2 = np.square(eta)# + 1e-10\n",
    "    \n",
    "#     A = np.linalg.inv(np.cov(x.T))\n",
    "    A = np.eye(x.shape[1])\n",
    "    D2 = calculate_D2(x, v, A)\n",
    "#     print('D2', D2.shape)\n",
    "#     print('eta', eta.shape)\n",
    "    u_new = 1.0 / (1.0 + np.power(D2 / eta, 1.0 / (m - 1)))\n",
    "    return u_new, D2"
   ]
  },
  {
   "cell_type": "code",
   "execution_count": 481,
   "metadata": {
    "collapsed": true
   },
   "outputs": [],
   "source": [
    "def calculate_new_centers(u, x, m):\n",
    "#     v = np.zeros([u.shape[1], x.shape[1]])\n",
    "#     for i in range(v.shape[0]):\n",
    "#         for j in range(v.shape[1]):\n",
    "#             v[i,j] = np.sum((u[:, i] ** m) * x[:, j]) / np.sum(u[:, i] ** m)\n",
    "#     return v\n",
    "    \n",
    "#     um = u ** m\n",
    "#     v = um.T.dot(x) / np.atleast_2d(um.sum(axis=0)).T\n",
    "#     return v\n",
    "    \n",
    "    um = np.power(u, m)\n",
    "    return np.dot(um.T, x) / np.atleast_2d(np.sum(um, axis=0)).T\n",
    "    return (np.matmul(um.T, x).T / np.sum(um, axis=0)).T"
   ]
  },
  {
   "cell_type": "code",
   "execution_count": 460,
   "metadata": {},
   "outputs": [
    {
     "data": {
      "text/plain": [
       "(100, 3)"
      ]
     },
     "execution_count": 460,
     "metadata": {},
     "output_type": "execute_result"
    }
   ],
   "source": [
    "u = np.random.uniform(size=assignation.shape)\n",
    "u.shape"
   ]
  },
  {
   "cell_type": "code",
   "execution_count": 488,
   "metadata": {},
   "outputs": [
    {
     "data": {
      "text/plain": [
       "array([[1.5, 3. ],\n",
       "       [0. , 0.5]])"
      ]
     },
     "execution_count": 488,
     "metadata": {},
     "output_type": "execute_result"
    }
   ],
   "source": [
    "xx = np.array([[2, 3], [0, 0], [0, 1], [1, 3]])\n",
    "uu = np.array([[1, 0], [0.0, 1], [0, 1], [1, 0]])\n",
    "\n",
    "calculate_new_centers(uu, xx, 2)\n"
   ]
  },
  {
   "cell_type": "code",
   "execution_count": 489,
   "metadata": {},
   "outputs": [
    {
     "data": {
      "text/plain": [
       "array([[1.49253731, 2.98507463],\n",
       "       [0.        , 0.55248619]])"
      ]
     },
     "execution_count": 489,
     "metadata": {},
     "output_type": "execute_result"
    }
   ],
   "source": [
    "xx = np.array([[2, 3], [0, 0], [0, 1], [1, 3]])\n",
    "uu = np.array([[1, 0], [0.1, .9], [0, 1], [1, 0]])\n",
    "\n",
    "calculate_new_centers(uu, xx, 2)\n"
   ]
  },
  {
   "cell_type": "code",
   "execution_count": 480,
   "metadata": {},
   "outputs": [
    {
     "data": {
      "text/plain": [
       "array([[0.34355803, 0.45622257],\n",
       "       [0.43859243, 0.48023623],\n",
       "       [0.37734487, 0.50266702]])"
      ]
     },
     "execution_count": 480,
     "metadata": {},
     "output_type": "execute_result"
    }
   ],
   "source": [
    "calculate_new_centers(u, x_norm, 3)"
   ]
  },
  {
   "cell_type": "code",
   "execution_count": 462,
   "metadata": {},
   "outputs": [
    {
     "data": {
      "text/plain": [
       "(100, 3)"
      ]
     },
     "execution_count": 462,
     "metadata": {},
     "output_type": "execute_result"
    }
   ],
   "source": [
    "assignation.shape"
   ]
  },
  {
   "cell_type": "code",
   "execution_count": 463,
   "metadata": {},
   "outputs": [
    {
     "data": {
      "text/plain": [
       "(100, 2)"
      ]
     },
     "execution_count": 463,
     "metadata": {},
     "output_type": "execute_result"
    }
   ],
   "source": [
    "x_norm.shape"
   ]
  },
  {
   "cell_type": "code",
   "execution_count": 464,
   "metadata": {
    "collapsed": true
   },
   "outputs": [],
   "source": [
    "um = u ** 3"
   ]
  },
  {
   "cell_type": "code",
   "execution_count": 465,
   "metadata": {},
   "outputs": [
    {
     "data": {
      "text/plain": [
       "10.144248632004262"
      ]
     },
     "execution_count": 465,
     "metadata": {},
     "output_type": "execute_result"
    }
   ],
   "source": [
    "np.sum(um[:,1] * x_norm[:, 0])"
   ]
  },
  {
   "cell_type": "code",
   "execution_count": 466,
   "metadata": {},
   "outputs": [
    {
     "data": {
      "text/plain": [
       "array([27.12458951, 23.12910099, 26.53599145])"
      ]
     },
     "execution_count": 466,
     "metadata": {},
     "output_type": "execute_result"
    }
   ],
   "source": [
    "np.sum(um, axis=0)"
   ]
  },
  {
   "cell_type": "code",
   "execution_count": 467,
   "metadata": {},
   "outputs": [
    {
     "data": {
      "text/plain": [
       "0.34355803454568473"
      ]
     },
     "execution_count": 467,
     "metadata": {},
     "output_type": "execute_result"
    }
   ],
   "source": [
    "np.sum(um[:,0] * x_norm[:, 0]) / np.sum(um[:, 0])"
   ]
  },
  {
   "cell_type": "code",
   "execution_count": 468,
   "metadata": {
    "collapsed": true
   },
   "outputs": [],
   "source": [
    "def calculate_differences(assignation, new_assignation):\n",
    "    return np.sum(np.abs(np.subtract(assignation, new_assignation)))"
   ]
  },
  {
   "cell_type": "code",
   "execution_count": 469,
   "metadata": {
    "collapsed": true
   },
   "outputs": [],
   "source": [
    "def possibilistic_k_means(x, clusters=3, m=2):\n",
    "    u = np.random.normal(size=[x.shape[0], clusters])\n",
    "    v = calculate_new_centers(u, x, m)\n",
    "    D2 = calculate_D2(x, v, np.eye(2))\n",
    "    \n",
    "    error = error_margin + 1.0\n",
    "    while error >= 1e-4: # error_margin:\n",
    "        new_u, D2 = calculate_u(u, x, v, D2, m)\n",
    "        error = calculate_differences(u, new_u)\n",
    "        print(error)\n",
    "        v = calculate_new_centers(new_u, x, m)\n",
    "        u = new_u\n",
    "#         break\n",
    "\n",
    "    return v, u"
   ]
  },
  {
   "cell_type": "code",
   "execution_count": 473,
   "metadata": {},
   "outputs": [
    {
     "name": "stdout",
     "output_type": "stream",
     "text": [
      "255.3728769090694\n",
      "4.195801624929792\n",
      "1.5584350132688605\n",
      "0.5835215541489328\n",
      "0.21861443625658572\n",
      "0.08180449854194288\n",
      "0.03063015644699718\n",
      "0.011488041417684114\n",
      "0.004318069222658372\n",
      "0.0016269393055757253\n",
      "0.0006145017020248722\n",
      "0.0002327108946984513\n",
      "8.837874955225367e-05\n",
      "[[0.44378921 0.49857587]\n",
      " [0.44378899 0.49857501]\n",
      " [0.44378873 0.49857485]]\n"
     ]
    },
    {
     "data": {
      "text/plain": [
       "array([1, 1, 2, 0, 1, 1, 0, 1, 2, 0, 1, 0, 2, 0, 2, 2, 1, 0, 0, 0, 0, 1,\n",
       "       1, 1, 0, 0, 2, 0, 0, 2, 1, 0, 2, 2, 2, 2, 2, 2, 0, 0, 2, 2, 0, 1,\n",
       "       1, 2, 2, 2, 1, 2, 2, 2, 1, 1, 1, 0, 2, 0, 0, 1, 1, 2, 1, 1, 1, 2,\n",
       "       0, 0, 1, 2, 1, 0, 2, 0, 1, 1, 0, 2, 1, 0, 1, 2, 0, 2, 0, 1, 2, 0,\n",
       "       0, 1, 1, 1, 0, 2, 1, 2, 0, 2, 0, 2])"
      ]
     },
     "execution_count": 473,
     "metadata": {},
     "output_type": "execute_result"
    }
   ],
   "source": [
    "centers, assignation = possibilistic_k_means(x_norm, clusters=clusters, m=3)\n",
    "\n",
    "print(centers)\n",
    "# print(assignation)\n",
    "np.argmax(assignation, axis=1)"
   ]
  },
  {
   "cell_type": "code",
   "execution_count": 474,
   "metadata": {},
   "outputs": [
    {
     "data": {
      "image/png": "[encoded data removed]",
      "text/plain": [
       "<matplotlib.figure.Figure at 0x1083aa898>"
      ]
     },
     "metadata": {},
     "output_type": "display_data"
    }
   ],
   "source": [
    "a = np.argmax(assignation, axis=1)\n",
    "\n",
    "sets = [x_norm[np.where(a == i)] for i in range(len(centers))]\n",
    "colors = ['red', 'blue', 'green', 'yellow']\n",
    "\n",
    "fig, ax = plt.subplots()\n",
    "\n",
    "for points, color in zip(sets, colors):\n",
    "    ax.scatter(points[:, 0], points[:, 1], c=color)\n",
    "\n",
    "ax.scatter(np.array(centers)[:, 0], np.array(centers)[:, 1], c='black')\n",
    "ax.set(xlabel='x', ylabel='y', title='Clusters')\n",
    "ax.grid()\n",
    "plt.show()"
   ]
  },
  {
   "cell_type": "code",
   "execution_count": null,
   "metadata": {
    "collapsed": true
   },
   "outputs": [],
   "source": []
  },
  {
   "cell_type": "code",
   "execution_count": null,
   "metadata": {
    "collapsed": true
   },
   "outputs": [],
   "source": []
  }
 ],
 "metadata": {
  "kernelspec": {
   "display_name": "Python 3",
   "language": "python",
   "name": "python3"
  },
  "language_info": {
   "codemirror_mode": {
    "name": "ipython",
    "version": 3
   },
   "file_extension": ".py",
   "mimetype": "text/x-python",
   "name": "python",
   "nbconvert_exporter": "python",
   "pygments_lexer": "ipython3",
   "version": "3.4.3"
  }
 },
 "nbformat": 4,
 "nbformat_minor": 2
}
