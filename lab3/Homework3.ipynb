{
 "cells": [
  {
   "cell_type": "markdown",
   "metadata": {},
   "source": [
    "# Homework 3\n",
    "\n",
    "- Implement the ridge regression algorithm through a gradient descent algorithm\n",
    "- apply it to a regression problem (with at least 10 predictors) for a chosen dataset\n",
    "- optimize the choice of lambda with R^2 and cross-validation \n",
    "- check the accuracy of the final prediction on the test part of the data set.\n",
    "- compare to a result of a simple linear regression fit\n",
    "- comment on the results"
   ]
  },
  {
   "cell_type": "code",
   "execution_count": 3,
   "metadata": {},
   "outputs": [],
   "source": [
    "import matplotlib.pyplot as plt\n",
    "\n",
    "import pandas as pd\n",
    "import numpy as np\n",
    "import scipy as sp\n",
    "\n",
    "from sklearn.linear_model import LinearRegression as Lin_Reg\n",
    "from sklearn.metrics import r2_score, accuracy_score\n",
    "from sklearn.cross_validation import train_test_split, cross_val_score\n",
    "from sklearn.model_selection import KFold\n",
    "\n",
    "\n",
    "# to make this notebook's output stable across runs\n",
    "np.random.seed(1)"
   ]
  },
  {
   "cell_type": "code",
   "execution_count": 4,
   "metadata": {
    "collapsed": true
   },
   "outputs": [],
   "source": [
    "%matplotlib inline"
   ]
  },
  {
   "cell_type": "markdown",
   "metadata": {},
   "source": [
    "## Creating dataset (NOT USED)\n",
    "\n",
    "Dataset is created as a linear function of predictors with added noise.\n",
    "\n",
    "I used this dataset as initial dataset for building the model. It is a perfect dataset for Ridge Regression model, as it fits a linear model. My implementation reaches $r^2$ score of approximately $0.99...$, similar to models from SciKitLearn library."
   ]
  },
  {
   "cell_type": "code",
   "execution_count": 5,
   "metadata": {
    "collapsed": true
   },
   "outputs": [],
   "source": [
    "num_predictors = 10\n",
    "num_examples = 1000"
   ]
  },
  {
   "cell_type": "code",
   "execution_count": 6,
   "metadata": {},
   "outputs": [
    {
     "name": "stdout",
     "output_type": "stream",
     "text": [
      "0.417022004702574 [ 0.44064899 -0.99977125 -0.39533485 -0.70648822 -0.81532281 -0.62747958\n",
      " -0.30887855 -0.20646505  0.07763347 -0.16161097]\n"
     ]
    }
   ],
   "source": [
    "beta_0 = np.random.rand()\n",
    "betas = np.random.uniform(size=num_predictors) * 2 - 1\n",
    "\n",
    "print(beta_0, betas)"
   ]
  },
  {
   "cell_type": "code",
   "execution_count": 7,
   "metadata": {
    "collapsed": true
   },
   "outputs": [],
   "source": [
    "def get_y(x):\n",
    "    return beta_0 + np.dot(betas, x.T)"
   ]
  },
  {
   "cell_type": "code",
   "execution_count": 8,
   "metadata": {
    "collapsed": true
   },
   "outputs": [],
   "source": [
    "predictor_means = np.random.uniform(size=[num_predictors])\n",
    "predictor_stddevs = np.random.uniform(size=[num_predictors])\n",
    "x = np.random.normal(size=[num_examples, num_predictors], loc=predictor_means, scale=predictor_stddevs)\n",
    "y = get_y(x) + np.random.normal(size=[num_examples], scale=0.1)"
   ]
  },
  {
   "cell_type": "code",
   "execution_count": 9,
   "metadata": {},
   "outputs": [
    {
     "name": "stdout",
     "output_type": "stream",
     "text": [
      "(1000, 10)\n",
      "(1000,)\n"
     ]
    }
   ],
   "source": [
    "print(x.shape)\n",
    "print(y.shape)"
   ]
  },
  {
   "cell_type": "markdown",
   "metadata": {},
   "source": [
    "## Loading existing dataset"
   ]
  },
  {
   "cell_type": "code",
   "execution_count": 10,
   "metadata": {},
   "outputs": [
    {
     "data": {
      "text/html": [
       "<div>\n",
       "<table border=\"1\" class=\"dataframe\">\n",
       "  <thead>\n",
       "    <tr style=\"text-align: right;\">\n",
       "      <th></th>\n",
       "      <th>No</th>\n",
       "      <th>Cement</th>\n",
       "      <th>Slag</th>\n",
       "      <th>Fly ash</th>\n",
       "      <th>Water</th>\n",
       "      <th>SP</th>\n",
       "      <th>Coarse Aggr.</th>\n",
       "      <th>Fine Aggr.</th>\n",
       "      <th>SLUMP(cm)</th>\n",
       "      <th>FLOW(cm)</th>\n",
       "      <th>Compressive Strength (28-day)(Mpa)</th>\n",
       "    </tr>\n",
       "  </thead>\n",
       "  <tbody>\n",
       "    <tr>\n",
       "      <th>0</th>\n",
       "      <td>1</td>\n",
       "      <td>273.0</td>\n",
       "      <td>82.0</td>\n",
       "      <td>105.0</td>\n",
       "      <td>210.0</td>\n",
       "      <td>9.0</td>\n",
       "      <td>904.0</td>\n",
       "      <td>680.0</td>\n",
       "      <td>23.0</td>\n",
       "      <td>62.0</td>\n",
       "      <td>34.99</td>\n",
       "    </tr>\n",
       "    <tr>\n",
       "      <th>1</th>\n",
       "      <td>2</td>\n",
       "      <td>163.0</td>\n",
       "      <td>149.0</td>\n",
       "      <td>191.0</td>\n",
       "      <td>180.0</td>\n",
       "      <td>12.0</td>\n",
       "      <td>843.0</td>\n",
       "      <td>746.0</td>\n",
       "      <td>0.0</td>\n",
       "      <td>20.0</td>\n",
       "      <td>41.14</td>\n",
       "    </tr>\n",
       "    <tr>\n",
       "      <th>2</th>\n",
       "      <td>3</td>\n",
       "      <td>162.0</td>\n",
       "      <td>148.0</td>\n",
       "      <td>191.0</td>\n",
       "      <td>179.0</td>\n",
       "      <td>16.0</td>\n",
       "      <td>840.0</td>\n",
       "      <td>743.0</td>\n",
       "      <td>1.0</td>\n",
       "      <td>20.0</td>\n",
       "      <td>41.81</td>\n",
       "    </tr>\n",
       "    <tr>\n",
       "      <th>3</th>\n",
       "      <td>4</td>\n",
       "      <td>162.0</td>\n",
       "      <td>148.0</td>\n",
       "      <td>190.0</td>\n",
       "      <td>179.0</td>\n",
       "      <td>19.0</td>\n",
       "      <td>838.0</td>\n",
       "      <td>741.0</td>\n",
       "      <td>3.0</td>\n",
       "      <td>21.5</td>\n",
       "      <td>42.08</td>\n",
       "    </tr>\n",
       "    <tr>\n",
       "      <th>4</th>\n",
       "      <td>5</td>\n",
       "      <td>154.0</td>\n",
       "      <td>112.0</td>\n",
       "      <td>144.0</td>\n",
       "      <td>220.0</td>\n",
       "      <td>10.0</td>\n",
       "      <td>923.0</td>\n",
       "      <td>658.0</td>\n",
       "      <td>20.0</td>\n",
       "      <td>64.0</td>\n",
       "      <td>26.82</td>\n",
       "    </tr>\n",
       "  </tbody>\n",
       "</table>\n",
       "</div>"
      ],
      "text/plain": [
       "   No  Cement   Slag  Fly ash  Water    SP  Coarse Aggr.  Fine Aggr.  \\\n",
       "0   1   273.0   82.0    105.0  210.0   9.0         904.0       680.0   \n",
       "1   2   163.0  149.0    191.0  180.0  12.0         843.0       746.0   \n",
       "2   3   162.0  148.0    191.0  179.0  16.0         840.0       743.0   \n",
       "3   4   162.0  148.0    190.0  179.0  19.0         838.0       741.0   \n",
       "4   5   154.0  112.0    144.0  220.0  10.0         923.0       658.0   \n",
       "\n",
       "   SLUMP(cm)  FLOW(cm)  Compressive Strength (28-day)(Mpa)  \n",
       "0       23.0      62.0                               34.99  \n",
       "1        0.0      20.0                               41.14  \n",
       "2        1.0      20.0                               41.81  \n",
       "3        3.0      21.5                               42.08  \n",
       "4       20.0      64.0                               26.82  "
      ]
     },
     "execution_count": 10,
     "metadata": {},
     "output_type": "execute_result"
    }
   ],
   "source": [
    "data = pd.read_csv('./slump_test.csv')\n",
    "y = data.iloc[:, -1].values\n",
    "x = data.iloc[:, :-1].values\n",
    "data.head()"
   ]
  },
  {
   "cell_type": "code",
   "execution_count": 11,
   "metadata": {
    "collapsed": true
   },
   "outputs": [],
   "source": [
    "x_train, x_test, y_train, y_test = train_test_split(x, y, test_size=0.2, random_state=10)"
   ]
  },
  {
   "cell_type": "code",
   "execution_count": 12,
   "metadata": {},
   "outputs": [
    {
     "data": {
      "text/plain": [
       "array([  1. , 137. ,   0. ,   0. , 160. ,   4.4, 708. , 640.6,   0. ,\n",
       "        20. ])"
      ]
     },
     "execution_count": 12,
     "metadata": {},
     "output_type": "execute_result"
    }
   ],
   "source": [
    "np.amin(x, axis=0)"
   ]
  },
  {
   "cell_type": "code",
   "execution_count": 13,
   "metadata": {},
   "outputs": [
    {
     "data": {
      "text/plain": [
       "array([ 103. ,  374. ,  193. ,  260. ,  240. ,   19. , 1049.9,  902. ,\n",
       "         29. ,   78. ])"
      ]
     },
     "execution_count": 13,
     "metadata": {},
     "output_type": "execute_result"
    }
   ],
   "source": [
    "np.amax(x, axis=0)"
   ]
  },
  {
   "cell_type": "markdown",
   "metadata": {},
   "source": [
    "## Model definition"
   ]
  },
  {
   "cell_type": "code",
   "execution_count": 14,
   "metadata": {
    "collapsed": true
   },
   "outputs": [],
   "source": [
    "class RidgeRegression:\n",
    "    def __init__(self, alpha=0.0, learning_rate=0.01, normalize=True):\n",
    "        self.alpha = alpha\n",
    "        self.learning_rate = learning_rate\n",
    "        self.normalize = normalize\n",
    "        \n",
    "    def normalize_x(self, x):\n",
    "        if self.normalize:\n",
    "            return (x - self.min_x) / (self.max_x - self.min_x)\n",
    "        return x\n",
    "    \n",
    "    def normalize_y(self, y):\n",
    "        if self.normalize:\n",
    "            return (y - self.min_y) / (self.max_y - self.min_y)\n",
    "        return x\n",
    "    \n",
    "    def denormalize_y(self, y_norm):\n",
    "        if self.normalize:\n",
    "            return y_norm * (self.max_y - self.min_y) + self.min_y\n",
    "        return y_norm\n",
    "    \n",
    "    def gradient_descent_step(self, x, y):\n",
    "        errors = y - (self.beta_0 + np.sum(x * self.beta, axis=1))\n",
    "        d_beta_0 = -2 * np.mean(errors)\n",
    "        d_beta = -2 * np.dot(x.T, errors) / len(x) + 2 * self.alpha * self.beta\n",
    "        self.beta_0 -= self.learning_rate * d_beta_0\n",
    "        self.beta -= self.learning_rate * d_beta\n",
    "        \n",
    "    def fit(self, x, y, epochs=100):\n",
    "        self.beta_0 = np.random.normal()\n",
    "        self.beta = np.random.normal(size=x.shape[1])\n",
    "        \n",
    "        self.min_x, self.max_x = np.amin(x, axis=0), np.amax(x, axis=0)\n",
    "        self.min_y, self.max_y = np.amin(y, axis=0), np.amax(y, axis=0)\n",
    "        \n",
    "        x = self.normalize_x(x)\n",
    "        y = self.normalize_y(y)\n",
    "        \n",
    "#         x_mean = np.mean(x, axis=0)\n",
    "#         x_wave = x / np.mean(np.power(x - x_mean, 2), axis=0)\n",
    "        \n",
    "        for e in range(epochs):\n",
    "            self.gradient_descent_step(x, y);\n",
    "            \n",
    "    def predict(self, x):\n",
    "        x = self.normalize_x(x)\n",
    "        result = self.beta_0 + np.sum(x * self.beta, axis=1)\n",
    "        return self.denormalize_y(result)\n",
    "    \n",
    "    def score(self, x, y):\n",
    "        return r2_score(y, self.predict(x))"
   ]
  },
  {
   "cell_type": "markdown",
   "metadata": {},
   "source": [
    "## Cross validation"
   ]
  },
  {
   "cell_type": "code",
   "execution_count": 15,
   "metadata": {
    "collapsed": true
   },
   "outputs": [],
   "source": [
    "# Run for different values of lambda \n",
    "lambda_min = -4\n",
    "lambda_max = 1\n",
    "num_lambdas = 15\n",
    "lambdas = np.linspace(lambda_min,lambda_max, num_lambdas)\n",
    "\n",
    "train_r_squared = np.zeros(num_lambdas)\n",
    "test_r_squared = np.zeros(num_lambdas)"
   ]
  },
  {
   "cell_type": "code",
   "execution_count": 16,
   "metadata": {},
   "outputs": [
    {
     "name": "stdout",
     "output_type": "stream",
     "text": [
      "[0.91671815 0.89873251 0.89522864 0.88304197 0.85889735]\n",
      "[0.72360397 0.91116215 0.90432748 0.69623088 0.41356519]\n",
      "-----\n",
      "[0.90546017 0.88958071 0.9037693  0.91071039 0.89770671]\n",
      "[0.74834054 0.91129093 0.88493468 0.83450642 0.84072919]\n",
      "-----\n",
      "[0.88596446 0.83135601 0.89504047 0.91214543 0.86594646]\n",
      "[0.76167875 0.84418095 0.89824235 0.85929721 0.70754492]\n",
      "-----\n",
      "[0.90698605 0.83642799 0.9069781  0.88888997 0.88815103]\n",
      "[0.78155443 0.85472049 0.8894883  0.79721319 0.89421353]\n",
      "-----\n",
      "[0.91788353 0.90225798 0.90723724 0.89594064 0.89930427]\n",
      "[0.77636467 0.91123583 0.88074239 0.83592508 0.86998338]\n",
      "-----\n",
      "[0.89425911 0.88303898 0.89933662 0.89931952 0.88880855]\n",
      "[0.76910011 0.90524556 0.86529824 0.85137565 0.88494337]\n",
      "-----\n",
      "[0.88994254 0.85621603 0.86820599 0.87327257 0.85495415]\n",
      "[0.71928004 0.84837618 0.81171484 0.80053861 0.80772228]\n",
      "-----\n",
      "[0.82197254 0.77789564 0.79062333 0.80474309 0.77402068]\n",
      "[0.59538379 0.72637844 0.72467307 0.63329517 0.61390991]\n",
      "-----\n",
      "[0.69225044 0.63665691 0.640154   0.67505337 0.62448326]\n",
      "[0.43008259 0.5307027  0.57237535 0.37606787 0.2738353 ]\n",
      "-----\n",
      "[0.5038119  0.45298471 0.44140533 0.49618068 0.43288057]\n",
      "[ 0.27736341  0.31959329  0.38743434  0.11944893 -0.08255304]\n",
      "-----\n",
      "[0.30937257 0.27778882 0.25834914 0.31133231 0.25574625]\n",
      "[ 0.13673352  0.16132346  0.22394534 -0.05341587 -0.36050018]\n",
      "-----\n",
      "[0.16461092 0.14979784 0.13312947 0.16898421 0.13273226]\n",
      "[ 0.02678988  0.07306246  0.11416272 -0.14736728 -0.53524369]\n",
      "-----\n",
      "[0.07975724 0.07359468 0.06336751 0.08288466 0.06341837]\n",
      "[-0.04206772  0.03140113  0.0534278  -0.19376571 -0.629167  ]\n",
      "-----\n",
      "[0.03671065 0.03417503 0.02891077 0.03838781 0.02898463]\n",
      "[-0.07850068  0.01290477  0.02350456 -0.21554016 -0.67486452]\n",
      "-----\n",
      "[0.01647583 0.01540838 0.01292203 0.01727856 0.01296508]\n",
      "[-0.09600064  0.00480082  0.00963229 -0.22543875 -0.69593224]\n",
      "-----\n"
     ]
    }
   ],
   "source": [
    "kfold = KFold(n_splits=5, random_state=123)\n",
    "\n",
    "for ind, i in enumerate(lambdas):\n",
    "    reg = RidgeRegression(alpha=10**i, learning_rate=0.01)\n",
    "    \n",
    "    train = []\n",
    "    test = []\n",
    "    for train_idx, test_idx in kfold.split(x):\n",
    "        reg.fit(x[train_idx], y[train_idx], epochs=10000)\n",
    "        train.append(reg.score(x[train_idx], y[train_idx]))\n",
    "        test.append(reg.score(x[test_idx], y[test_idx]))\n",
    "    print(np.array(train))\n",
    "    print(np.array(test))\n",
    "    print('-----')\n",
    "    # Evaluate train & test performance\n",
    "    train_r_squared[ind] = np.mean(train)\n",
    "    test_r_squared[ind] = np.mean(test)"
   ]
  },
  {
   "cell_type": "code",
   "execution_count": 17,
   "metadata": {},
   "outputs": [
    {
     "data": {
      "image/png": "[encoded data removed]",
      "text/plain": [
       "<matplotlib.figure.Figure at 0x10a1942b0>"
      ]
     },
     "metadata": {},
     "output_type": "display_data"
    }
   ],
   "source": [
    "# Plotting\n",
    "plt.figure(figsize=(18, 8))\n",
    "plt.plot(lambdas, train_r_squared, 'bo-', label=r'$R^2$ Training set', color=\"darkblue\", alpha=0.6, linewidth=3)\n",
    "plt.plot(lambdas, test_r_squared,  'bo-', label=r'$R^2$ Test set', color=\"darkred\", alpha=0.6, linewidth=3)\n",
    "plt.xlabel('Lamda value'); plt.ylabel(r'$R^2$')\n",
    "plt.xlim(lambda_min, lambda_max)\n",
    "plt.title(r'Evaluate 5-fold cv with different lamdas')\n",
    "plt.legend(loc='best')\n",
    "plt.grid()"
   ]
  },
  {
   "cell_type": "markdown",
   "metadata": {},
   "source": [
    "## Selecting the best $\\lambda$ value\n",
    "\n",
    "Low $\\lambda$ values seem to result in highest $r^2$ score"
   ]
  },
  {
   "cell_type": "code",
   "execution_count": 18,
   "metadata": {
    "collapsed": true
   },
   "outputs": [],
   "source": [
    "m = RidgeRegression(alpha=0.005, learning_rate=0.01)"
   ]
  },
  {
   "cell_type": "code",
   "execution_count": 19,
   "metadata": {
    "collapsed": true
   },
   "outputs": [],
   "source": [
    "m.fit(x_train, y_train, epochs=10000)"
   ]
  },
  {
   "cell_type": "code",
   "execution_count": 20,
   "metadata": {
    "collapsed": true
   },
   "outputs": [],
   "source": [
    "y_p = m.predict(x_test)"
   ]
  },
  {
   "cell_type": "markdown",
   "metadata": {},
   "source": [
    "### Computed betas"
   ]
  },
  {
   "cell_type": "code",
   "execution_count": 21,
   "metadata": {},
   "outputs": [
    {
     "name": "stdout",
     "output_type": "stream",
     "text": [
      "0.23984864319633406\n",
      "[-0.02742707  0.4748021   0.02026426  0.42890702 -0.25237528 -0.00297546\n",
      " -0.12496776 -0.00477181 -0.13769006  0.07727684]\n"
     ]
    }
   ],
   "source": [
    "print(m.beta_0)\n",
    "print(m.beta)"
   ]
  },
  {
   "cell_type": "markdown",
   "metadata": {},
   "source": [
    "### Accuracy"
   ]
  },
  {
   "cell_type": "code",
   "execution_count": 22,
   "metadata": {
    "scrolled": true
   },
   "outputs": [
    {
     "data": {
      "text/plain": [
       "0.8602092932597064"
      ]
     },
     "execution_count": 22,
     "metadata": {},
     "output_type": "execute_result"
    }
   ],
   "source": [
    "r2_score(y_test, y_p)"
   ]
  },
  {
   "cell_type": "markdown",
   "metadata": {},
   "source": [
    "## Compare to Linear Regression"
   ]
  },
  {
   "cell_type": "code",
   "execution_count": 24,
   "metadata": {},
   "outputs": [
    {
     "data": {
      "text/plain": [
       "LinearRegression(copy_X=True, fit_intercept=True, n_jobs=1, normalize=False)"
      ]
     },
     "execution_count": 24,
     "metadata": {},
     "output_type": "execute_result"
    }
   ],
   "source": [
    "lin = Lin_Reg()\n",
    "lin.fit(x_train, y_train)"
   ]
  },
  {
   "cell_type": "code",
   "execution_count": 25,
   "metadata": {
    "collapsed": true
   },
   "outputs": [],
   "source": [
    "y_lin = lin.predict(x_test)"
   ]
  },
  {
   "cell_type": "markdown",
   "metadata": {},
   "source": [
    "### Accuracy"
   ]
  },
  {
   "cell_type": "code",
   "execution_count": 26,
   "metadata": {},
   "outputs": [
    {
     "data": {
      "text/plain": [
       "0.8435454185116431"
      ]
     },
     "execution_count": 26,
     "metadata": {},
     "output_type": "execute_result"
    }
   ],
   "source": [
    "r2_score(y_test, y_lin)"
   ]
  },
  {
   "cell_type": "markdown",
   "metadata": {},
   "source": [
    "### Conclusions\n",
    "Both models get very similar results.\n",
    "\n",
    "The model gets the best results with $\\lambda$ smaller that $0.05$. For higher $\\lambda$ values, the shrinkage penalty on $\\beta_i$ becomes dominant component of the loss function. This results in assigning lower values to $\\beta_i$, which in turn results in incorrect predictions of $y_i$"
   ]
  }
 ],
 "metadata": {
  "_change_revision": 0,
  "_is_fork": false,
  "kernelspec": {
   "display_name": "Python 3",
   "language": "python",
   "name": "python3"
  },
  "language_info": {
   "codemirror_mode": {
    "name": "ipython",
    "version": 3
   },
   "file_extension": ".py",
   "mimetype": "text/x-python",
   "name": "python",
   "nbconvert_exporter": "python",
   "pygments_lexer": "ipython3",
   "version": "3.4.3"
  }
 },
 "nbformat": 4,
 "nbformat_minor": 1
}
